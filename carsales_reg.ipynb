{
 "cells": [
  {
   "cell_type": "markdown",
   "metadata": {
    "id": "n5TmBuXEP2YY"
   },
   "source": [
    "#Dataset Load"
   ]
  },
  {
   "cell_type": "code",
   "execution_count": 1,
   "metadata": {
    "executionInfo": {
     "elapsed": 1042,
     "status": "ok",
     "timestamp": 1702215717412,
     "user": {
      "displayName": "Bouras",
      "userId": "12044258327519011260"
     },
     "user_tz": -120
    },
    "id": "50x2ENeOIP9V"
   },
   "outputs": [],
   "source": [
    "import pandas as pd\n",
    "import numpy as np\n",
    "import matplotlib.pyplot as plt"
   ]
  },
  {
   "cell_type": "code",
   "execution_count": 2,
   "metadata": {
    "colab": {
     "base_uri": "https://localhost:8080/",
     "height": 206
    },
    "executionInfo": {
     "elapsed": 507,
     "status": "ok",
     "timestamp": 1702215717918,
     "user": {
      "displayName": "Bouras",
      "userId": "12044258327519011260"
     },
     "user_tz": -120
    },
    "id": "SpSmIQoaKTcU",
    "outputId": "293a20bf-8e8a-4ef4-93c2-e842e0e03f92"
   },
   "outputs": [
    {
     "data": {
      "text/html": [
       "\n",
       "  <div id=\"df-20428395-bce1-40f7-9215-1a320f870078\" class=\"colab-df-container\">\n",
       "    <div>\n",
       "<style scoped>\n",
       "    .dataframe tbody tr th:only-of-type {\n",
       "        vertical-align: middle;\n",
       "    }\n",
       "\n",
       "    .dataframe tbody tr th {\n",
       "        vertical-align: top;\n",
       "    }\n",
       "\n",
       "    .dataframe thead th {\n",
       "        text-align: right;\n",
       "    }\n",
       "</style>\n",
       "<table border=\"1\" class=\"dataframe\">\n",
       "  <thead>\n",
       "    <tr style=\"text-align: right;\">\n",
       "      <th></th>\n",
       "      <th>Car_Name</th>\n",
       "      <th>Year</th>\n",
       "      <th>Selling_Price</th>\n",
       "      <th>Present_Price</th>\n",
       "      <th>Kms_Driven</th>\n",
       "      <th>Fuel_Type</th>\n",
       "      <th>Seller_Type</th>\n",
       "      <th>Transmission</th>\n",
       "      <th>Owner</th>\n",
       "    </tr>\n",
       "  </thead>\n",
       "  <tbody>\n",
       "    <tr>\n",
       "      <th>0</th>\n",
       "      <td>ritz</td>\n",
       "      <td>2014</td>\n",
       "      <td>3.35</td>\n",
       "      <td>5.59</td>\n",
       "      <td>27000</td>\n",
       "      <td>Petrol</td>\n",
       "      <td>Dealer</td>\n",
       "      <td>Manual</td>\n",
       "      <td>0</td>\n",
       "    </tr>\n",
       "    <tr>\n",
       "      <th>1</th>\n",
       "      <td>sx4</td>\n",
       "      <td>2013</td>\n",
       "      <td>4.75</td>\n",
       "      <td>9.54</td>\n",
       "      <td>43000</td>\n",
       "      <td>Diesel</td>\n",
       "      <td>Dealer</td>\n",
       "      <td>Manual</td>\n",
       "      <td>0</td>\n",
       "    </tr>\n",
       "    <tr>\n",
       "      <th>2</th>\n",
       "      <td>ciaz</td>\n",
       "      <td>2017</td>\n",
       "      <td>7.25</td>\n",
       "      <td>9.85</td>\n",
       "      <td>6900</td>\n",
       "      <td>Petrol</td>\n",
       "      <td>Dealer</td>\n",
       "      <td>Manual</td>\n",
       "      <td>0</td>\n",
       "    </tr>\n",
       "    <tr>\n",
       "      <th>3</th>\n",
       "      <td>wagon r</td>\n",
       "      <td>2011</td>\n",
       "      <td>2.85</td>\n",
       "      <td>4.15</td>\n",
       "      <td>5200</td>\n",
       "      <td>Petrol</td>\n",
       "      <td>Dealer</td>\n",
       "      <td>Manual</td>\n",
       "      <td>0</td>\n",
       "    </tr>\n",
       "    <tr>\n",
       "      <th>4</th>\n",
       "      <td>swift</td>\n",
       "      <td>2014</td>\n",
       "      <td>4.60</td>\n",
       "      <td>6.87</td>\n",
       "      <td>42450</td>\n",
       "      <td>Diesel</td>\n",
       "      <td>Dealer</td>\n",
       "      <td>Manual</td>\n",
       "      <td>0</td>\n",
       "    </tr>\n",
       "  </tbody>\n",
       "</table>\n",
       "</div>\n",
       "    <div class=\"colab-df-buttons\">\n",
       "\n",
       "  <div class=\"colab-df-container\">\n",
       "    <button class=\"colab-df-convert\" onclick=\"convertToInteractive('df-20428395-bce1-40f7-9215-1a320f870078')\"\n",
       "            title=\"Convert this dataframe to an interactive table.\"\n",
       "            style=\"display:none;\">\n",
       "\n",
       "  <svg xmlns=\"http://www.w3.org/2000/svg\" height=\"24px\" viewBox=\"0 -960 960 960\">\n",
       "    <path d=\"M120-120v-720h720v720H120Zm60-500h600v-160H180v160Zm220 220h160v-160H400v160Zm0 220h160v-160H400v160ZM180-400h160v-160H180v160Zm440 0h160v-160H620v160ZM180-180h160v-160H180v160Zm440 0h160v-160H620v160Z\"/>\n",
       "  </svg>\n",
       "    </button>\n",
       "\n",
       "  <style>\n",
       "    .colab-df-container {\n",
       "      display:flex;\n",
       "      gap: 12px;\n",
       "    }\n",
       "\n",
       "    .colab-df-convert {\n",
       "      background-color: #E8F0FE;\n",
       "      border: none;\n",
       "      border-radius: 50%;\n",
       "      cursor: pointer;\n",
       "      display: none;\n",
       "      fill: #1967D2;\n",
       "      height: 32px;\n",
       "      padding: 0 0 0 0;\n",
       "      width: 32px;\n",
       "    }\n",
       "\n",
       "    .colab-df-convert:hover {\n",
       "      background-color: #E2EBFA;\n",
       "      box-shadow: 0px 1px 2px rgba(60, 64, 67, 0.3), 0px 1px 3px 1px rgba(60, 64, 67, 0.15);\n",
       "      fill: #174EA6;\n",
       "    }\n",
       "\n",
       "    .colab-df-buttons div {\n",
       "      margin-bottom: 4px;\n",
       "    }\n",
       "\n",
       "    [theme=dark] .colab-df-convert {\n",
       "      background-color: #3B4455;\n",
       "      fill: #D2E3FC;\n",
       "    }\n",
       "\n",
       "    [theme=dark] .colab-df-convert:hover {\n",
       "      background-color: #434B5C;\n",
       "      box-shadow: 0px 1px 3px 1px rgba(0, 0, 0, 0.15);\n",
       "      filter: drop-shadow(0px 1px 2px rgba(0, 0, 0, 0.3));\n",
       "      fill: #FFFFFF;\n",
       "    }\n",
       "  </style>\n",
       "\n",
       "    <script>\n",
       "      const buttonEl =\n",
       "        document.querySelector('#df-20428395-bce1-40f7-9215-1a320f870078 button.colab-df-convert');\n",
       "      buttonEl.style.display =\n",
       "        google.colab.kernel.accessAllowed ? 'block' : 'none';\n",
       "\n",
       "      async function convertToInteractive(key) {\n",
       "        const element = document.querySelector('#df-20428395-bce1-40f7-9215-1a320f870078');\n",
       "        const dataTable =\n",
       "          await google.colab.kernel.invokeFunction('convertToInteractive',\n",
       "                                                    [key], {});\n",
       "        if (!dataTable) return;\n",
       "\n",
       "        const docLinkHtml = 'Like what you see? Visit the ' +\n",
       "          '<a target=\"_blank\" href=https://colab.research.google.com/notebooks/data_table.ipynb>data table notebook</a>'\n",
       "          + ' to learn more about interactive tables.';\n",
       "        element.innerHTML = '';\n",
       "        dataTable['output_type'] = 'display_data';\n",
       "        await google.colab.output.renderOutput(dataTable, element);\n",
       "        const docLink = document.createElement('div');\n",
       "        docLink.innerHTML = docLinkHtml;\n",
       "        element.appendChild(docLink);\n",
       "      }\n",
       "    </script>\n",
       "  </div>\n",
       "\n",
       "\n",
       "<div id=\"df-ba370cf0-d2f6-42b8-bc6a-df67c11c1009\">\n",
       "  <button class=\"colab-df-quickchart\" onclick=\"quickchart('df-ba370cf0-d2f6-42b8-bc6a-df67c11c1009')\"\n",
       "            title=\"Suggest charts\"\n",
       "            style=\"display:none;\">\n",
       "\n",
       "<svg xmlns=\"http://www.w3.org/2000/svg\" height=\"24px\"viewBox=\"0 0 24 24\"\n",
       "     width=\"24px\">\n",
       "    <g>\n",
       "        <path d=\"M19 3H5c-1.1 0-2 .9-2 2v14c0 1.1.9 2 2 2h14c1.1 0 2-.9 2-2V5c0-1.1-.9-2-2-2zM9 17H7v-7h2v7zm4 0h-2V7h2v10zm4 0h-2v-4h2v4z\"/>\n",
       "    </g>\n",
       "</svg>\n",
       "  </button>\n",
       "\n",
       "<style>\n",
       "  .colab-df-quickchart {\n",
       "      --bg-color: #E8F0FE;\n",
       "      --fill-color: #1967D2;\n",
       "      --hover-bg-color: #E2EBFA;\n",
       "      --hover-fill-color: #174EA6;\n",
       "      --disabled-fill-color: #AAA;\n",
       "      --disabled-bg-color: #DDD;\n",
       "  }\n",
       "\n",
       "  [theme=dark] .colab-df-quickchart {\n",
       "      --bg-color: #3B4455;\n",
       "      --fill-color: #D2E3FC;\n",
       "      --hover-bg-color: #434B5C;\n",
       "      --hover-fill-color: #FFFFFF;\n",
       "      --disabled-bg-color: #3B4455;\n",
       "      --disabled-fill-color: #666;\n",
       "  }\n",
       "\n",
       "  .colab-df-quickchart {\n",
       "    background-color: var(--bg-color);\n",
       "    border: none;\n",
       "    border-radius: 50%;\n",
       "    cursor: pointer;\n",
       "    display: none;\n",
       "    fill: var(--fill-color);\n",
       "    height: 32px;\n",
       "    padding: 0;\n",
       "    width: 32px;\n",
       "  }\n",
       "\n",
       "  .colab-df-quickchart:hover {\n",
       "    background-color: var(--hover-bg-color);\n",
       "    box-shadow: 0 1px 2px rgba(60, 64, 67, 0.3), 0 1px 3px 1px rgba(60, 64, 67, 0.15);\n",
       "    fill: var(--button-hover-fill-color);\n",
       "  }\n",
       "\n",
       "  .colab-df-quickchart-complete:disabled,\n",
       "  .colab-df-quickchart-complete:disabled:hover {\n",
       "    background-color: var(--disabled-bg-color);\n",
       "    fill: var(--disabled-fill-color);\n",
       "    box-shadow: none;\n",
       "  }\n",
       "\n",
       "  .colab-df-spinner {\n",
       "    border: 2px solid var(--fill-color);\n",
       "    border-color: transparent;\n",
       "    border-bottom-color: var(--fill-color);\n",
       "    animation:\n",
       "      spin 1s steps(1) infinite;\n",
       "  }\n",
       "\n",
       "  @keyframes spin {\n",
       "    0% {\n",
       "      border-color: transparent;\n",
       "      border-bottom-color: var(--fill-color);\n",
       "      border-left-color: var(--fill-color);\n",
       "    }\n",
       "    20% {\n",
       "      border-color: transparent;\n",
       "      border-left-color: var(--fill-color);\n",
       "      border-top-color: var(--fill-color);\n",
       "    }\n",
       "    30% {\n",
       "      border-color: transparent;\n",
       "      border-left-color: var(--fill-color);\n",
       "      border-top-color: var(--fill-color);\n",
       "      border-right-color: var(--fill-color);\n",
       "    }\n",
       "    40% {\n",
       "      border-color: transparent;\n",
       "      border-right-color: var(--fill-color);\n",
       "      border-top-color: var(--fill-color);\n",
       "    }\n",
       "    60% {\n",
       "      border-color: transparent;\n",
       "      border-right-color: var(--fill-color);\n",
       "    }\n",
       "    80% {\n",
       "      border-color: transparent;\n",
       "      border-right-color: var(--fill-color);\n",
       "      border-bottom-color: var(--fill-color);\n",
       "    }\n",
       "    90% {\n",
       "      border-color: transparent;\n",
       "      border-bottom-color: var(--fill-color);\n",
       "    }\n",
       "  }\n",
       "</style>\n",
       "\n",
       "  <script>\n",
       "    async function quickchart(key) {\n",
       "      const quickchartButtonEl =\n",
       "        document.querySelector('#' + key + ' button');\n",
       "      quickchartButtonEl.disabled = true;  // To prevent multiple clicks.\n",
       "      quickchartButtonEl.classList.add('colab-df-spinner');\n",
       "      try {\n",
       "        const charts = await google.colab.kernel.invokeFunction(\n",
       "            'suggestCharts', [key], {});\n",
       "      } catch (error) {\n",
       "        console.error('Error during call to suggestCharts:', error);\n",
       "      }\n",
       "      quickchartButtonEl.classList.remove('colab-df-spinner');\n",
       "      quickchartButtonEl.classList.add('colab-df-quickchart-complete');\n",
       "    }\n",
       "    (() => {\n",
       "      let quickchartButtonEl =\n",
       "        document.querySelector('#df-ba370cf0-d2f6-42b8-bc6a-df67c11c1009 button');\n",
       "      quickchartButtonEl.style.display =\n",
       "        google.colab.kernel.accessAllowed ? 'block' : 'none';\n",
       "    })();\n",
       "  </script>\n",
       "</div>\n",
       "    </div>\n",
       "  </div>\n"
      ],
      "text/plain": [
       "  Car_Name  Year  Selling_Price  Present_Price  Kms_Driven Fuel_Type  \\\n",
       "0     ritz  2014           3.35           5.59       27000    Petrol   \n",
       "1      sx4  2013           4.75           9.54       43000    Diesel   \n",
       "2     ciaz  2017           7.25           9.85        6900    Petrol   \n",
       "3  wagon r  2011           2.85           4.15        5200    Petrol   \n",
       "4    swift  2014           4.60           6.87       42450    Diesel   \n",
       "\n",
       "  Seller_Type Transmission  Owner  \n",
       "0      Dealer       Manual      0  \n",
       "1      Dealer       Manual      0  \n",
       "2      Dealer       Manual      0  \n",
       "3      Dealer       Manual      0  \n",
       "4      Dealer       Manual      0  "
      ]
     },
     "execution_count": 2,
     "metadata": {},
     "output_type": "execute_result"
    }
   ],
   "source": [
    "df=pd.read_csv('carsales.csv')\n",
    "df.head()"
   ]
  },
  {
   "cell_type": "code",
   "execution_count": 3,
   "metadata": {
    "colab": {
     "base_uri": "https://localhost:8080/",
     "height": 206
    },
    "executionInfo": {
     "elapsed": 16,
     "status": "ok",
     "timestamp": 1702215717918,
     "user": {
      "displayName": "Bouras",
      "userId": "12044258327519011260"
     },
     "user_tz": -120
    },
    "id": "Cbh0wgVErHHJ",
    "outputId": "96f57d77-15e5-41aa-92f6-805dc2f2548a"
   },
   "outputs": [
    {
     "data": {
      "text/html": [
       "\n",
       "  <div id=\"df-9cbfd81f-0c36-47ee-ab3f-5167a7540a0d\" class=\"colab-df-container\">\n",
       "    <div>\n",
       "<style scoped>\n",
       "    .dataframe tbody tr th:only-of-type {\n",
       "        vertical-align: middle;\n",
       "    }\n",
       "\n",
       "    .dataframe tbody tr th {\n",
       "        vertical-align: top;\n",
       "    }\n",
       "\n",
       "    .dataframe thead th {\n",
       "        text-align: right;\n",
       "    }\n",
       "</style>\n",
       "<table border=\"1\" class=\"dataframe\">\n",
       "  <thead>\n",
       "    <tr style=\"text-align: right;\">\n",
       "      <th></th>\n",
       "      <th>Year</th>\n",
       "      <th>Selling_Price</th>\n",
       "      <th>Present_Price</th>\n",
       "      <th>Kms_Driven</th>\n",
       "      <th>Fuel_Type</th>\n",
       "      <th>Seller_Type</th>\n",
       "      <th>Transmission</th>\n",
       "      <th>Owner</th>\n",
       "    </tr>\n",
       "  </thead>\n",
       "  <tbody>\n",
       "    <tr>\n",
       "      <th>0</th>\n",
       "      <td>2014</td>\n",
       "      <td>3.35</td>\n",
       "      <td>5.59</td>\n",
       "      <td>27000</td>\n",
       "      <td>Petrol</td>\n",
       "      <td>Dealer</td>\n",
       "      <td>Manual</td>\n",
       "      <td>0</td>\n",
       "    </tr>\n",
       "    <tr>\n",
       "      <th>1</th>\n",
       "      <td>2013</td>\n",
       "      <td>4.75</td>\n",
       "      <td>9.54</td>\n",
       "      <td>43000</td>\n",
       "      <td>Diesel</td>\n",
       "      <td>Dealer</td>\n",
       "      <td>Manual</td>\n",
       "      <td>0</td>\n",
       "    </tr>\n",
       "    <tr>\n",
       "      <th>2</th>\n",
       "      <td>2017</td>\n",
       "      <td>7.25</td>\n",
       "      <td>9.85</td>\n",
       "      <td>6900</td>\n",
       "      <td>Petrol</td>\n",
       "      <td>Dealer</td>\n",
       "      <td>Manual</td>\n",
       "      <td>0</td>\n",
       "    </tr>\n",
       "    <tr>\n",
       "      <th>3</th>\n",
       "      <td>2011</td>\n",
       "      <td>2.85</td>\n",
       "      <td>4.15</td>\n",
       "      <td>5200</td>\n",
       "      <td>Petrol</td>\n",
       "      <td>Dealer</td>\n",
       "      <td>Manual</td>\n",
       "      <td>0</td>\n",
       "    </tr>\n",
       "    <tr>\n",
       "      <th>4</th>\n",
       "      <td>2014</td>\n",
       "      <td>4.60</td>\n",
       "      <td>6.87</td>\n",
       "      <td>42450</td>\n",
       "      <td>Diesel</td>\n",
       "      <td>Dealer</td>\n",
       "      <td>Manual</td>\n",
       "      <td>0</td>\n",
       "    </tr>\n",
       "  </tbody>\n",
       "</table>\n",
       "</div>\n",
       "    <div class=\"colab-df-buttons\">\n",
       "\n",
       "  <div class=\"colab-df-container\">\n",
       "    <button class=\"colab-df-convert\" onclick=\"convertToInteractive('df-9cbfd81f-0c36-47ee-ab3f-5167a7540a0d')\"\n",
       "            title=\"Convert this dataframe to an interactive table.\"\n",
       "            style=\"display:none;\">\n",
       "\n",
       "  <svg xmlns=\"http://www.w3.org/2000/svg\" height=\"24px\" viewBox=\"0 -960 960 960\">\n",
       "    <path d=\"M120-120v-720h720v720H120Zm60-500h600v-160H180v160Zm220 220h160v-160H400v160Zm0 220h160v-160H400v160ZM180-400h160v-160H180v160Zm440 0h160v-160H620v160ZM180-180h160v-160H180v160Zm440 0h160v-160H620v160Z\"/>\n",
       "  </svg>\n",
       "    </button>\n",
       "\n",
       "  <style>\n",
       "    .colab-df-container {\n",
       "      display:flex;\n",
       "      gap: 12px;\n",
       "    }\n",
       "\n",
       "    .colab-df-convert {\n",
       "      background-color: #E8F0FE;\n",
       "      border: none;\n",
       "      border-radius: 50%;\n",
       "      cursor: pointer;\n",
       "      display: none;\n",
       "      fill: #1967D2;\n",
       "      height: 32px;\n",
       "      padding: 0 0 0 0;\n",
       "      width: 32px;\n",
       "    }\n",
       "\n",
       "    .colab-df-convert:hover {\n",
       "      background-color: #E2EBFA;\n",
       "      box-shadow: 0px 1px 2px rgba(60, 64, 67, 0.3), 0px 1px 3px 1px rgba(60, 64, 67, 0.15);\n",
       "      fill: #174EA6;\n",
       "    }\n",
       "\n",
       "    .colab-df-buttons div {\n",
       "      margin-bottom: 4px;\n",
       "    }\n",
       "\n",
       "    [theme=dark] .colab-df-convert {\n",
       "      background-color: #3B4455;\n",
       "      fill: #D2E3FC;\n",
       "    }\n",
       "\n",
       "    [theme=dark] .colab-df-convert:hover {\n",
       "      background-color: #434B5C;\n",
       "      box-shadow: 0px 1px 3px 1px rgba(0, 0, 0, 0.15);\n",
       "      filter: drop-shadow(0px 1px 2px rgba(0, 0, 0, 0.3));\n",
       "      fill: #FFFFFF;\n",
       "    }\n",
       "  </style>\n",
       "\n",
       "    <script>\n",
       "      const buttonEl =\n",
       "        document.querySelector('#df-9cbfd81f-0c36-47ee-ab3f-5167a7540a0d button.colab-df-convert');\n",
       "      buttonEl.style.display =\n",
       "        google.colab.kernel.accessAllowed ? 'block' : 'none';\n",
       "\n",
       "      async function convertToInteractive(key) {\n",
       "        const element = document.querySelector('#df-9cbfd81f-0c36-47ee-ab3f-5167a7540a0d');\n",
       "        const dataTable =\n",
       "          await google.colab.kernel.invokeFunction('convertToInteractive',\n",
       "                                                    [key], {});\n",
       "        if (!dataTable) return;\n",
       "\n",
       "        const docLinkHtml = 'Like what you see? Visit the ' +\n",
       "          '<a target=\"_blank\" href=https://colab.research.google.com/notebooks/data_table.ipynb>data table notebook</a>'\n",
       "          + ' to learn more about interactive tables.';\n",
       "        element.innerHTML = '';\n",
       "        dataTable['output_type'] = 'display_data';\n",
       "        await google.colab.output.renderOutput(dataTable, element);\n",
       "        const docLink = document.createElement('div');\n",
       "        docLink.innerHTML = docLinkHtml;\n",
       "        element.appendChild(docLink);\n",
       "      }\n",
       "    </script>\n",
       "  </div>\n",
       "\n",
       "\n",
       "<div id=\"df-5d236809-db47-46da-bec0-ed78648ee8e2\">\n",
       "  <button class=\"colab-df-quickchart\" onclick=\"quickchart('df-5d236809-db47-46da-bec0-ed78648ee8e2')\"\n",
       "            title=\"Suggest charts\"\n",
       "            style=\"display:none;\">\n",
       "\n",
       "<svg xmlns=\"http://www.w3.org/2000/svg\" height=\"24px\"viewBox=\"0 0 24 24\"\n",
       "     width=\"24px\">\n",
       "    <g>\n",
       "        <path d=\"M19 3H5c-1.1 0-2 .9-2 2v14c0 1.1.9 2 2 2h14c1.1 0 2-.9 2-2V5c0-1.1-.9-2-2-2zM9 17H7v-7h2v7zm4 0h-2V7h2v10zm4 0h-2v-4h2v4z\"/>\n",
       "    </g>\n",
       "</svg>\n",
       "  </button>\n",
       "\n",
       "<style>\n",
       "  .colab-df-quickchart {\n",
       "      --bg-color: #E8F0FE;\n",
       "      --fill-color: #1967D2;\n",
       "      --hover-bg-color: #E2EBFA;\n",
       "      --hover-fill-color: #174EA6;\n",
       "      --disabled-fill-color: #AAA;\n",
       "      --disabled-bg-color: #DDD;\n",
       "  }\n",
       "\n",
       "  [theme=dark] .colab-df-quickchart {\n",
       "      --bg-color: #3B4455;\n",
       "      --fill-color: #D2E3FC;\n",
       "      --hover-bg-color: #434B5C;\n",
       "      --hover-fill-color: #FFFFFF;\n",
       "      --disabled-bg-color: #3B4455;\n",
       "      --disabled-fill-color: #666;\n",
       "  }\n",
       "\n",
       "  .colab-df-quickchart {\n",
       "    background-color: var(--bg-color);\n",
       "    border: none;\n",
       "    border-radius: 50%;\n",
       "    cursor: pointer;\n",
       "    display: none;\n",
       "    fill: var(--fill-color);\n",
       "    height: 32px;\n",
       "    padding: 0;\n",
       "    width: 32px;\n",
       "  }\n",
       "\n",
       "  .colab-df-quickchart:hover {\n",
       "    background-color: var(--hover-bg-color);\n",
       "    box-shadow: 0 1px 2px rgba(60, 64, 67, 0.3), 0 1px 3px 1px rgba(60, 64, 67, 0.15);\n",
       "    fill: var(--button-hover-fill-color);\n",
       "  }\n",
       "\n",
       "  .colab-df-quickchart-complete:disabled,\n",
       "  .colab-df-quickchart-complete:disabled:hover {\n",
       "    background-color: var(--disabled-bg-color);\n",
       "    fill: var(--disabled-fill-color);\n",
       "    box-shadow: none;\n",
       "  }\n",
       "\n",
       "  .colab-df-spinner {\n",
       "    border: 2px solid var(--fill-color);\n",
       "    border-color: transparent;\n",
       "    border-bottom-color: var(--fill-color);\n",
       "    animation:\n",
       "      spin 1s steps(1) infinite;\n",
       "  }\n",
       "\n",
       "  @keyframes spin {\n",
       "    0% {\n",
       "      border-color: transparent;\n",
       "      border-bottom-color: var(--fill-color);\n",
       "      border-left-color: var(--fill-color);\n",
       "    }\n",
       "    20% {\n",
       "      border-color: transparent;\n",
       "      border-left-color: var(--fill-color);\n",
       "      border-top-color: var(--fill-color);\n",
       "    }\n",
       "    30% {\n",
       "      border-color: transparent;\n",
       "      border-left-color: var(--fill-color);\n",
       "      border-top-color: var(--fill-color);\n",
       "      border-right-color: var(--fill-color);\n",
       "    }\n",
       "    40% {\n",
       "      border-color: transparent;\n",
       "      border-right-color: var(--fill-color);\n",
       "      border-top-color: var(--fill-color);\n",
       "    }\n",
       "    60% {\n",
       "      border-color: transparent;\n",
       "      border-right-color: var(--fill-color);\n",
       "    }\n",
       "    80% {\n",
       "      border-color: transparent;\n",
       "      border-right-color: var(--fill-color);\n",
       "      border-bottom-color: var(--fill-color);\n",
       "    }\n",
       "    90% {\n",
       "      border-color: transparent;\n",
       "      border-bottom-color: var(--fill-color);\n",
       "    }\n",
       "  }\n",
       "</style>\n",
       "\n",
       "  <script>\n",
       "    async function quickchart(key) {\n",
       "      const quickchartButtonEl =\n",
       "        document.querySelector('#' + key + ' button');\n",
       "      quickchartButtonEl.disabled = true;  // To prevent multiple clicks.\n",
       "      quickchartButtonEl.classList.add('colab-df-spinner');\n",
       "      try {\n",
       "        const charts = await google.colab.kernel.invokeFunction(\n",
       "            'suggestCharts', [key], {});\n",
       "      } catch (error) {\n",
       "        console.error('Error during call to suggestCharts:', error);\n",
       "      }\n",
       "      quickchartButtonEl.classList.remove('colab-df-spinner');\n",
       "      quickchartButtonEl.classList.add('colab-df-quickchart-complete');\n",
       "    }\n",
       "    (() => {\n",
       "      let quickchartButtonEl =\n",
       "        document.querySelector('#df-5d236809-db47-46da-bec0-ed78648ee8e2 button');\n",
       "      quickchartButtonEl.style.display =\n",
       "        google.colab.kernel.accessAllowed ? 'block' : 'none';\n",
       "    })();\n",
       "  </script>\n",
       "</div>\n",
       "    </div>\n",
       "  </div>\n"
      ],
      "text/plain": [
       "   Year  Selling_Price  Present_Price  Kms_Driven Fuel_Type Seller_Type  \\\n",
       "0  2014           3.35           5.59       27000    Petrol      Dealer   \n",
       "1  2013           4.75           9.54       43000    Diesel      Dealer   \n",
       "2  2017           7.25           9.85        6900    Petrol      Dealer   \n",
       "3  2011           2.85           4.15        5200    Petrol      Dealer   \n",
       "4  2014           4.60           6.87       42450    Diesel      Dealer   \n",
       "\n",
       "  Transmission  Owner  \n",
       "0       Manual      0  \n",
       "1       Manual      0  \n",
       "2       Manual      0  \n",
       "3       Manual      0  \n",
       "4       Manual      0  "
      ]
     },
     "execution_count": 3,
     "metadata": {},
     "output_type": "execute_result"
    }
   ],
   "source": [
    "df=df.drop(['Car_Name'],axis=1)\n",
    "df.head()"
   ]
  },
  {
   "cell_type": "markdown",
   "metadata": {
    "id": "tg1Q1n0fAiyD"
   },
   "source": [
    "#EDA"
   ]
  },
  {
   "cell_type": "code",
   "execution_count": 4,
   "metadata": {
    "colab": {
     "base_uri": "https://localhost:8080/",
     "height": 539
    },
    "executionInfo": {
     "elapsed": 2919,
     "status": "ok",
     "timestamp": 1702215723051,
     "user": {
      "displayName": "Bouras",
      "userId": "12044258327519011260"
     },
     "user_tz": -120
    },
    "id": "iYrbU-VEmAXa",
    "outputId": "61f639a3-df2a-4d25-ede9-61156a24c73c"
   },
   "outputs": [
    {
     "data": {
      "text/plain": [
       "array([[<Axes: title={'center': 'Year'}>,\n",
       "        <Axes: title={'center': 'Selling_Price'}>],\n",
       "       [<Axes: title={'center': 'Present_Price'}>,\n",
       "        <Axes: title={'center': 'Kms_Driven'}>],\n",
       "       [<Axes: title={'center': 'Owner'}>, <Axes: >]], dtype=object)"
      ]
     },
     "execution_count": 4,
     "metadata": {},
     "output_type": "execute_result"
    },
    {
     "data": {
      "image/png": "[encoded data removed]",
      "text/plain": [
       "<Figure size 640x480 with 6 Axes>"
      ]
     },
     "metadata": {},
     "output_type": "display_data"
    }
   ],
   "source": [
    "df.hist()"
   ]
  },
  {
   "cell_type": "code",
   "execution_count": 5,
   "metadata": {
    "colab": {
     "base_uri": "https://localhost:8080/",
     "height": 447
    },
    "executionInfo": {
     "elapsed": 493,
     "status": "ok",
     "timestamp": 1702215723541,
     "user": {
      "displayName": "Bouras",
      "userId": "12044258327519011260"
     },
     "user_tz": -120
    },
    "id": "j-YWrr_CozeE",
    "outputId": "e62c41e4-565a-4709-c621-22e78cbda90c"
   },
   "outputs": [
    {
     "data": {
      "text/plain": [
       "<Axes: >"
      ]
     },
     "execution_count": 5,
     "metadata": {},
     "output_type": "execute_result"
    },
    {
     "data": {
      "image/png": "[encoded data removed]",
      "text/plain": [
       "<Figure size 640x480 with 1 Axes>"
      ]
     },
     "metadata": {},
     "output_type": "display_data"
    }
   ],
   "source": [
    "df.boxplot()"
   ]
  },
  {
   "cell_type": "code",
   "execution_count": 6,
   "metadata": {
    "executionInfo": {
     "elapsed": 4,
     "status": "ok",
     "timestamp": 1702215723541,
     "user": {
      "displayName": "Bouras",
      "userId": "12044258327519011260"
     },
     "user_tz": -120
    },
    "id": "EwX4zsqyLtfz"
   },
   "outputs": [],
   "source": [
    "#hard to observe what's happenning for the features besides Kms_driven therefore we will check the boxplot of the Standardized dataset"
   ]
  },
  {
   "cell_type": "code",
   "execution_count": 7,
   "metadata": {
    "colab": {
     "base_uri": "https://localhost:8080/",
     "height": 447
    },
    "executionInfo": {
     "elapsed": 2743,
     "status": "ok",
     "timestamp": 1702215726281,
     "user": {
      "displayName": "Bouras",
      "userId": "12044258327519011260"
     },
     "user_tz": -120
    },
    "id": "7RRUkxGsqB2g",
    "outputId": "6c034941-1163-4d92-ec3a-f1700eda6268"
   },
   "outputs": [
    {
     "data": {
      "text/plain": [
       "<Axes: >"
      ]
     },
     "execution_count": 7,
     "metadata": {},
     "output_type": "execute_result"
    },
    {
     "data": {
      "image/png": "[encoded data removed]",
      "text/plain": [
       "<Figure size 640x480 with 1 Axes>"
      ]
     },
     "metadata": {},
     "output_type": "display_data"
    }
   ],
   "source": [
    "from sklearn.preprocessing import StandardScaler\n",
    "asd=df\n",
    "asd.iloc[:,:4]=StandardScaler().fit_transform(df.iloc[:,:4])\n",
    "asd=pd.DataFrame(asd)\n",
    "asd.boxplot()"
   ]
  },
  {
   "cell_type": "code",
   "execution_count": 8,
   "metadata": {
    "executionInfo": {
     "elapsed": 4,
     "status": "ok",
     "timestamp": 1702215726281,
     "user": {
      "displayName": "Bouras",
      "userId": "12044258327519011260"
     },
     "user_tz": -120
    },
    "id": "PvprTOCEputd"
   },
   "outputs": [],
   "source": [
    "#descent amount of outliers, if our regression models don t perform well we should consider an imputation method in our data preprocessing"
   ]
  },
  {
   "cell_type": "code",
   "execution_count": 9,
   "metadata": {
    "executionInfo": {
     "elapsed": 432,
     "status": "ok",
     "timestamp": 1702215726710,
     "user": {
      "displayName": "Bouras",
      "userId": "12044258327519011260"
     },
     "user_tz": -120
    },
    "id": "aw7eVPX2AyI4"
   },
   "outputs": [],
   "source": [
    "import seaborn as sns"
   ]
  },
  {
   "cell_type": "code",
   "execution_count": 10,
   "metadata": {
    "colab": {
     "base_uri": "https://localhost:8080/",
     "height": 506
    },
    "executionInfo": {
     "elapsed": 710,
     "status": "ok",
     "timestamp": 1702215727418,
     "user": {
      "displayName": "Bouras",
      "userId": "12044258327519011260"
     },
     "user_tz": -120
    },
    "id": "OoCjeQjvAzIj",
    "outputId": "bc46ecb0-fe27-40c1-9b30-565a02282706"
   },
   "outputs": [
    {
     "name": "stderr",
     "output_type": "stream",
     "text": [
      "<ipython-input-10-af8bb05e47da>:1: FutureWarning: The default value of numeric_only in DataFrame.corr is deprecated. In a future version, it will default to False. Select only valid columns or specify the value of numeric_only to silence this warning.\n",
      "  cor = df.corr()\n"
     ]
    },
    {
     "data": {
      "image/png": "[encoded data removed]",
      "text/plain": [
       "<Figure size 800x500 with 2 Axes>"
      ]
     },
     "metadata": {},
     "output_type": "display_data"
    }
   ],
   "source": [
    "cor = df.corr()\n",
    "plt.figure(figsize=(8,5))\n",
    "sns.heatmap(cor, cmap=plt.cm.CMRmap_r,annot=True)\n",
    "plt.show()"
   ]
  },
  {
   "cell_type": "code",
   "execution_count": 11,
   "metadata": {
    "executionInfo": {
     "elapsed": 4,
     "status": "ok",
     "timestamp": 1702215727418,
     "user": {
      "displayName": "Bouras",
      "userId": "12044258327519011260"
     },
     "user_tz": -120
    },
    "id": "Gi9GRVapBJpp"
   },
   "outputs": [],
   "source": [
    "#we can see that most features have weak to none correlation(abs<0.5) ,except the correlation between Selling price and Present price which is estimated at 0.88\n",
    "#indication that the indepedent feature Present_Price will probably be the variable 'explaining' most of the model's variance"
   ]
  },
  {
   "cell_type": "markdown",
   "metadata": {
    "id": "dTLpdqQuUENk"
   },
   "source": [
    "#Data Preprocessing"
   ]
  },
  {
   "cell_type": "code",
   "execution_count": 11,
   "metadata": {
    "executionInfo": {
     "elapsed": 477,
     "status": "ok",
     "timestamp": 1702215727891,
     "user": {
      "displayName": "Bouras",
      "userId": "12044258327519011260"
     },
     "user_tz": -120
    },
    "id": "dXuDZ61EKbhT"
   },
   "outputs": [],
   "source": []
  },
  {
   "cell_type": "code",
   "execution_count": 12,
   "metadata": {
    "colab": {
     "base_uri": "https://localhost:8080/"
    },
    "executionInfo": {
     "elapsed": 24,
     "status": "ok",
     "timestamp": 1702215727891,
     "user": {
      "displayName": "Bouras",
      "userId": "12044258327519011260"
     },
     "user_tz": -120
    },
    "id": "eiCL_JW8KlOs",
    "outputId": "a81a7f99-22e4-42f1-d305-db7a1acbe6d8"
   },
   "outputs": [
    {
     "data": {
      "text/plain": [
       "Year             0\n",
       "Selling_Price    0\n",
       "Present_Price    0\n",
       "Kms_Driven       0\n",
       "Fuel_Type        0\n",
       "Seller_Type      0\n",
       "Transmission     0\n",
       "Owner            0\n",
       "dtype: int64"
      ]
     },
     "execution_count": 12,
     "metadata": {},
     "output_type": "execute_result"
    }
   ],
   "source": [
    "df.isna().sum() #no missing vallues"
   ]
  },
  {
   "cell_type": "code",
   "execution_count": 13,
   "metadata": {
    "colab": {
     "base_uri": "https://localhost:8080/",
     "height": 300
    },
    "executionInfo": {
     "elapsed": 23,
     "status": "ok",
     "timestamp": 1702215727891,
     "user": {
      "displayName": "Bouras",
      "userId": "12044258327519011260"
     },
     "user_tz": -120
    },
    "id": "yjxvmdH7K0Uz",
    "outputId": "cc59576f-c5c5-46d0-f722-13b48a70240c"
   },
   "outputs": [
    {
     "data": {
      "text/html": [
       "\n",
       "  <div id=\"df-db4a8657-9981-4f3d-b2cc-86beb66a292d\" class=\"colab-df-container\">\n",
       "    <div>\n",
       "<style scoped>\n",
       "    .dataframe tbody tr th:only-of-type {\n",
       "        vertical-align: middle;\n",
       "    }\n",
       "\n",
       "    .dataframe tbody tr th {\n",
       "        vertical-align: top;\n",
       "    }\n",
       "\n",
       "    .dataframe thead th {\n",
       "        text-align: right;\n",
       "    }\n",
       "</style>\n",
       "<table border=\"1\" class=\"dataframe\">\n",
       "  <thead>\n",
       "    <tr style=\"text-align: right;\">\n",
       "      <th></th>\n",
       "      <th>Year</th>\n",
       "      <th>Selling_Price</th>\n",
       "      <th>Present_Price</th>\n",
       "      <th>Kms_Driven</th>\n",
       "      <th>Owner</th>\n",
       "    </tr>\n",
       "  </thead>\n",
       "  <tbody>\n",
       "    <tr>\n",
       "      <th>count</th>\n",
       "      <td>3.010000e+02</td>\n",
       "      <td>3.010000e+02</td>\n",
       "      <td>3.010000e+02</td>\n",
       "      <td>3.010000e+02</td>\n",
       "      <td>301.000000</td>\n",
       "    </tr>\n",
       "    <tr>\n",
       "      <th>mean</th>\n",
       "      <td>-2.931579e-14</td>\n",
       "      <td>-3.540911e-17</td>\n",
       "      <td>-9.442428e-17</td>\n",
       "      <td>5.901518e-17</td>\n",
       "      <td>0.043189</td>\n",
       "    </tr>\n",
       "    <tr>\n",
       "      <th>std</th>\n",
       "      <td>1.001665e+00</td>\n",
       "      <td>1.001665e+00</td>\n",
       "      <td>1.001665e+00</td>\n",
       "      <td>1.001665e+00</td>\n",
       "      <td>0.247915</td>\n",
       "    </tr>\n",
       "    <tr>\n",
       "      <th>min</th>\n",
       "      <td>-3.681621e+00</td>\n",
       "      <td>-8.988906e-01</td>\n",
       "      <td>-8.468932e-01</td>\n",
       "      <td>-9.388230e-01</td>\n",
       "      <td>0.000000</td>\n",
       "    </tr>\n",
       "    <tr>\n",
       "      <th>25%</th>\n",
       "      <td>-5.639244e-01</td>\n",
       "      <td>-7.412353e-01</td>\n",
       "      <td>-7.449203e-01</td>\n",
       "      <td>-5.653257e-01</td>\n",
       "      <td>0.000000</td>\n",
       "    </tr>\n",
       "    <tr>\n",
       "      <th>50%</th>\n",
       "      <td>1.288970e-01</td>\n",
       "      <td>-2.091486e-01</td>\n",
       "      <td>-1.423532e-01</td>\n",
       "      <td>-1.274323e-01</td>\n",
       "      <td>0.000000</td>\n",
       "    </tr>\n",
       "    <tr>\n",
       "      <th>75%</th>\n",
       "      <td>8.217184e-01</td>\n",
       "      <td>2.638173e-01</td>\n",
       "      <td>2.632208e-01</td>\n",
       "      <td>3.044594e-01</td>\n",
       "      <td>0.000000</td>\n",
       "    </tr>\n",
       "    <tr>\n",
       "      <th>max</th>\n",
       "      <td>1.514540e+00</td>\n",
       "      <td>5.978822e+00</td>\n",
       "      <td>9.846355e+00</td>\n",
       "      <td>1.192752e+01</td>\n",
       "      <td>3.000000</td>\n",
       "    </tr>\n",
       "  </tbody>\n",
       "</table>\n",
       "</div>\n",
       "    <div class=\"colab-df-buttons\">\n",
       "\n",
       "  <div class=\"colab-df-container\">\n",
       "    <button class=\"colab-df-convert\" onclick=\"convertToInteractive('df-db4a8657-9981-4f3d-b2cc-86beb66a292d')\"\n",
       "            title=\"Convert this dataframe to an interactive table.\"\n",
       "            style=\"display:none;\">\n",
       "\n",
       "  <svg xmlns=\"http://www.w3.org/2000/svg\" height=\"24px\" viewBox=\"0 -960 960 960\">\n",
       "    <path d=\"M120-120v-720h720v720H120Zm60-500h600v-160H180v160Zm220 220h160v-160H400v160Zm0 220h160v-160H400v160ZM180-400h160v-160H180v160Zm440 0h160v-160H620v160ZM180-180h160v-160H180v160Zm440 0h160v-160H620v160Z\"/>\n",
       "  </svg>\n",
       "    </button>\n",
       "\n",
       "  <style>\n",
       "    .colab-df-container {\n",
       "      display:flex;\n",
       "      gap: 12px;\n",
       "    }\n",
       "\n",
       "    .colab-df-convert {\n",
       "      background-color: #E8F0FE;\n",
       "      border: none;\n",
       "      border-radius: 50%;\n",
       "      cursor: pointer;\n",
       "      display: none;\n",
       "      fill: #1967D2;\n",
       "      height: 32px;\n",
       "      padding: 0 0 0 0;\n",
       "      width: 32px;\n",
       "    }\n",
       "\n",
       "    .colab-df-convert:hover {\n",
       "      background-color: #E2EBFA;\n",
       "      box-shadow: 0px 1px 2px rgba(60, 64, 67, 0.3), 0px 1px 3px 1px rgba(60, 64, 67, 0.15);\n",
       "      fill: #174EA6;\n",
       "    }\n",
       "\n",
       "    .colab-df-buttons div {\n",
       "      margin-bottom: 4px;\n",
       "    }\n",
       "\n",
       "    [theme=dark] .colab-df-convert {\n",
       "      background-color: #3B4455;\n",
       "      fill: #D2E3FC;\n",
       "    }\n",
       "\n",
       "    [theme=dark] .colab-df-convert:hover {\n",
       "      background-color: #434B5C;\n",
       "      box-shadow: 0px 1px 3px 1px rgba(0, 0, 0, 0.15);\n",
       "      filter: drop-shadow(0px 1px 2px rgba(0, 0, 0, 0.3));\n",
       "      fill: #FFFFFF;\n",
       "    }\n",
       "  </style>\n",
       "\n",
       "    <script>\n",
       "      const buttonEl =\n",
       "        document.querySelector('#df-db4a8657-9981-4f3d-b2cc-86beb66a292d button.colab-df-convert');\n",
       "      buttonEl.style.display =\n",
       "        google.colab.kernel.accessAllowed ? 'block' : 'none';\n",
       "\n",
       "      async function convertToInteractive(key) {\n",
       "        const element = document.querySelector('#df-db4a8657-9981-4f3d-b2cc-86beb66a292d');\n",
       "        const dataTable =\n",
       "          await google.colab.kernel.invokeFunction('convertToInteractive',\n",
       "                                                    [key], {});\n",
       "        if (!dataTable) return;\n",
       "\n",
       "        const docLinkHtml = 'Like what you see? Visit the ' +\n",
       "          '<a target=\"_blank\" href=https://colab.research.google.com/notebooks/data_table.ipynb>data table notebook</a>'\n",
       "          + ' to learn more about interactive tables.';\n",
       "        element.innerHTML = '';\n",
       "        dataTable['output_type'] = 'display_data';\n",
       "        await google.colab.output.renderOutput(dataTable, element);\n",
       "        const docLink = document.createElement('div');\n",
       "        docLink.innerHTML = docLinkHtml;\n",
       "        element.appendChild(docLink);\n",
       "      }\n",
       "    </script>\n",
       "  </div>\n",
       "\n",
       "\n",
       "<div id=\"df-3a35a8bb-6036-4caf-8147-48b7f410807e\">\n",
       "  <button class=\"colab-df-quickchart\" onclick=\"quickchart('df-3a35a8bb-6036-4caf-8147-48b7f410807e')\"\n",
       "            title=\"Suggest charts\"\n",
       "            style=\"display:none;\">\n",
       "\n",
       "<svg xmlns=\"http://www.w3.org/2000/svg\" height=\"24px\"viewBox=\"0 0 24 24\"\n",
       "     width=\"24px\">\n",
       "    <g>\n",
       "        <path d=\"M19 3H5c-1.1 0-2 .9-2 2v14c0 1.1.9 2 2 2h14c1.1 0 2-.9 2-2V5c0-1.1-.9-2-2-2zM9 17H7v-7h2v7zm4 0h-2V7h2v10zm4 0h-2v-4h2v4z\"/>\n",
       "    </g>\n",
       "</svg>\n",
       "  </button>\n",
       "\n",
       "<style>\n",
       "  .colab-df-quickchart {\n",
       "      --bg-color: #E8F0FE;\n",
       "      --fill-color: #1967D2;\n",
       "      --hover-bg-color: #E2EBFA;\n",
       "      --hover-fill-color: #174EA6;\n",
       "      --disabled-fill-color: #AAA;\n",
       "      --disabled-bg-color: #DDD;\n",
       "  }\n",
       "\n",
       "  [theme=dark] .colab-df-quickchart {\n",
       "      --bg-color: #3B4455;\n",
       "      --fill-color: #D2E3FC;\n",
       "      --hover-bg-color: #434B5C;\n",
       "      --hover-fill-color: #FFFFFF;\n",
       "      --disabled-bg-color: #3B4455;\n",
       "      --disabled-fill-color: #666;\n",
       "  }\n",
       "\n",
       "  .colab-df-quickchart {\n",
       "    background-color: var(--bg-color);\n",
       "    border: none;\n",
       "    border-radius: 50%;\n",
       "    cursor: pointer;\n",
       "    display: none;\n",
       "    fill: var(--fill-color);\n",
       "    height: 32px;\n",
       "    padding: 0;\n",
       "    width: 32px;\n",
       "  }\n",
       "\n",
       "  .colab-df-quickchart:hover {\n",
       "    background-color: var(--hover-bg-color);\n",
       "    box-shadow: 0 1px 2px rgba(60, 64, 67, 0.3), 0 1px 3px 1px rgba(60, 64, 67, 0.15);\n",
       "    fill: var(--button-hover-fill-color);\n",
       "  }\n",
       "\n",
       "  .colab-df-quickchart-complete:disabled,\n",
       "  .colab-df-quickchart-complete:disabled:hover {\n",
       "    background-color: var(--disabled-bg-color);\n",
       "    fill: var(--disabled-fill-color);\n",
       "    box-shadow: none;\n",
       "  }\n",
       "\n",
       "  .colab-df-spinner {\n",
       "    border: 2px solid var(--fill-color);\n",
       "    border-color: transparent;\n",
       "    border-bottom-color: var(--fill-color);\n",
       "    animation:\n",
       "      spin 1s steps(1) infinite;\n",
       "  }\n",
       "\n",
       "  @keyframes spin {\n",
       "    0% {\n",
       "      border-color: transparent;\n",
       "      border-bottom-color: var(--fill-color);\n",
       "      border-left-color: var(--fill-color);\n",
       "    }\n",
       "    20% {\n",
       "      border-color: transparent;\n",
       "      border-left-color: var(--fill-color);\n",
       "      border-top-color: var(--fill-color);\n",
       "    }\n",
       "    30% {\n",
       "      border-color: transparent;\n",
       "      border-left-color: var(--fill-color);\n",
       "      border-top-color: var(--fill-color);\n",
       "      border-right-color: var(--fill-color);\n",
       "    }\n",
       "    40% {\n",
       "      border-color: transparent;\n",
       "      border-right-color: var(--fill-color);\n",
       "      border-top-color: var(--fill-color);\n",
       "    }\n",
       "    60% {\n",
       "      border-color: transparent;\n",
       "      border-right-color: var(--fill-color);\n",
       "    }\n",
       "    80% {\n",
       "      border-color: transparent;\n",
       "      border-right-color: var(--fill-color);\n",
       "      border-bottom-color: var(--fill-color);\n",
       "    }\n",
       "    90% {\n",
       "      border-color: transparent;\n",
       "      border-bottom-color: var(--fill-color);\n",
       "    }\n",
       "  }\n",
       "</style>\n",
       "\n",
       "  <script>\n",
       "    async function quickchart(key) {\n",
       "      const quickchartButtonEl =\n",
       "        document.querySelector('#' + key + ' button');\n",
       "      quickchartButtonEl.disabled = true;  // To prevent multiple clicks.\n",
       "      quickchartButtonEl.classList.add('colab-df-spinner');\n",
       "      try {\n",
       "        const charts = await google.colab.kernel.invokeFunction(\n",
       "            'suggestCharts', [key], {});\n",
       "      } catch (error) {\n",
       "        console.error('Error during call to suggestCharts:', error);\n",
       "      }\n",
       "      quickchartButtonEl.classList.remove('colab-df-spinner');\n",
       "      quickchartButtonEl.classList.add('colab-df-quickchart-complete');\n",
       "    }\n",
       "    (() => {\n",
       "      let quickchartButtonEl =\n",
       "        document.querySelector('#df-3a35a8bb-6036-4caf-8147-48b7f410807e button');\n",
       "      quickchartButtonEl.style.display =\n",
       "        google.colab.kernel.accessAllowed ? 'block' : 'none';\n",
       "    })();\n",
       "  </script>\n",
       "</div>\n",
       "    </div>\n",
       "  </div>\n"
      ],
      "text/plain": [
       "               Year  Selling_Price  Present_Price    Kms_Driven       Owner\n",
       "count  3.010000e+02   3.010000e+02   3.010000e+02  3.010000e+02  301.000000\n",
       "mean  -2.931579e-14  -3.540911e-17  -9.442428e-17  5.901518e-17    0.043189\n",
       "std    1.001665e+00   1.001665e+00   1.001665e+00  1.001665e+00    0.247915\n",
       "min   -3.681621e+00  -8.988906e-01  -8.468932e-01 -9.388230e-01    0.000000\n",
       "25%   -5.639244e-01  -7.412353e-01  -7.449203e-01 -5.653257e-01    0.000000\n",
       "50%    1.288970e-01  -2.091486e-01  -1.423532e-01 -1.274323e-01    0.000000\n",
       "75%    8.217184e-01   2.638173e-01   2.632208e-01  3.044594e-01    0.000000\n",
       "max    1.514540e+00   5.978822e+00   9.846355e+00  1.192752e+01    3.000000"
      ]
     },
     "execution_count": 13,
     "metadata": {},
     "output_type": "execute_result"
    }
   ],
   "source": [
    "df.describe()"
   ]
  },
  {
   "cell_type": "code",
   "execution_count": 14,
   "metadata": {
    "executionInfo": {
     "elapsed": 23,
     "status": "ok",
     "timestamp": 1702215727891,
     "user": {
      "displayName": "Bouras",
      "userId": "12044258327519011260"
     },
     "user_tz": -120
    },
    "id": "hl-v40oeK2lz"
   },
   "outputs": [],
   "source": [
    "X=df.drop(['Selling_Price'],axis=1)"
   ]
  },
  {
   "cell_type": "code",
   "execution_count": 15,
   "metadata": {
    "colab": {
     "base_uri": "https://localhost:8080/",
     "height": 206
    },
    "executionInfo": {
     "elapsed": 23,
     "status": "ok",
     "timestamp": 1702215727891,
     "user": {
      "displayName": "Bouras",
      "userId": "12044258327519011260"
     },
     "user_tz": -120
    },
    "id": "0H258uhNtac_",
    "outputId": "cd782e2f-5032-47c7-b1ff-7ac9edb6048c"
   },
   "outputs": [
    {
     "data": {
      "text/html": [
       "\n",
       "  <div id=\"df-9261cfd8-7497-4bfa-9e46-a46d80f168fa\" class=\"colab-df-container\">\n",
       "    <div>\n",
       "<style scoped>\n",
       "    .dataframe tbody tr th:only-of-type {\n",
       "        vertical-align: middle;\n",
       "    }\n",
       "\n",
       "    .dataframe tbody tr th {\n",
       "        vertical-align: top;\n",
       "    }\n",
       "\n",
       "    .dataframe thead th {\n",
       "        text-align: right;\n",
       "    }\n",
       "</style>\n",
       "<table border=\"1\" class=\"dataframe\">\n",
       "  <thead>\n",
       "    <tr style=\"text-align: right;\">\n",
       "      <th></th>\n",
       "      <th>Year</th>\n",
       "      <th>Present_Price</th>\n",
       "      <th>Kms_Driven</th>\n",
       "      <th>Fuel_Type</th>\n",
       "      <th>Seller_Type</th>\n",
       "      <th>Transmission</th>\n",
       "      <th>Owner</th>\n",
       "    </tr>\n",
       "  </thead>\n",
       "  <tbody>\n",
       "    <tr>\n",
       "      <th>0</th>\n",
       "      <td>0.128897</td>\n",
       "      <td>-0.236215</td>\n",
       "      <td>-0.256224</td>\n",
       "      <td>Petrol</td>\n",
       "      <td>Dealer</td>\n",
       "      <td>Manual</td>\n",
       "      <td>0</td>\n",
       "    </tr>\n",
       "    <tr>\n",
       "      <th>1</th>\n",
       "      <td>-0.217514</td>\n",
       "      <td>0.221505</td>\n",
       "      <td>0.155911</td>\n",
       "      <td>Diesel</td>\n",
       "      <td>Dealer</td>\n",
       "      <td>Manual</td>\n",
       "      <td>0</td>\n",
       "    </tr>\n",
       "    <tr>\n",
       "      <th>2</th>\n",
       "      <td>1.168129</td>\n",
       "      <td>0.257427</td>\n",
       "      <td>-0.773969</td>\n",
       "      <td>Petrol</td>\n",
       "      <td>Dealer</td>\n",
       "      <td>Manual</td>\n",
       "      <td>0</td>\n",
       "    </tr>\n",
       "    <tr>\n",
       "      <th>3</th>\n",
       "      <td>-0.910335</td>\n",
       "      <td>-0.403079</td>\n",
       "      <td>-0.817758</td>\n",
       "      <td>Petrol</td>\n",
       "      <td>Dealer</td>\n",
       "      <td>Manual</td>\n",
       "      <td>0</td>\n",
       "    </tr>\n",
       "    <tr>\n",
       "      <th>4</th>\n",
       "      <td>0.128897</td>\n",
       "      <td>-0.087890</td>\n",
       "      <td>0.141743</td>\n",
       "      <td>Diesel</td>\n",
       "      <td>Dealer</td>\n",
       "      <td>Manual</td>\n",
       "      <td>0</td>\n",
       "    </tr>\n",
       "  </tbody>\n",
       "</table>\n",
       "</div>\n",
       "    <div class=\"colab-df-buttons\">\n",
       "\n",
       "  <div class=\"colab-df-container\">\n",
       "    <button class=\"colab-df-convert\" onclick=\"convertToInteractive('df-9261cfd8-7497-4bfa-9e46-a46d80f168fa')\"\n",
       "            title=\"Convert this dataframe to an interactive table.\"\n",
       "            style=\"display:none;\">\n",
       "\n",
       "  <svg xmlns=\"http://www.w3.org/2000/svg\" height=\"24px\" viewBox=\"0 -960 960 960\">\n",
       "    <path d=\"M120-120v-720h720v720H120Zm60-500h600v-160H180v160Zm220 220h160v-160H400v160Zm0 220h160v-160H400v160ZM180-400h160v-160H180v160Zm440 0h160v-160H620v160ZM180-180h160v-160H180v160Zm440 0h160v-160H620v160Z\"/>\n",
       "  </svg>\n",
       "    </button>\n",
       "\n",
       "  <style>\n",
       "    .colab-df-container {\n",
       "      display:flex;\n",
       "      gap: 12px;\n",
       "    }\n",
       "\n",
       "    .colab-df-convert {\n",
       "      background-color: #E8F0FE;\n",
       "      border: none;\n",
       "      border-radius: 50%;\n",
       "      cursor: pointer;\n",
       "      display: none;\n",
       "      fill: #1967D2;\n",
       "      height: 32px;\n",
       "      padding: 0 0 0 0;\n",
       "      width: 32px;\n",
       "    }\n",
       "\n",
       "    .colab-df-convert:hover {\n",
       "      background-color: #E2EBFA;\n",
       "      box-shadow: 0px 1px 2px rgba(60, 64, 67, 0.3), 0px 1px 3px 1px rgba(60, 64, 67, 0.15);\n",
       "      fill: #174EA6;\n",
       "    }\n",
       "\n",
       "    .colab-df-buttons div {\n",
       "      margin-bottom: 4px;\n",
       "    }\n",
       "\n",
       "    [theme=dark] .colab-df-convert {\n",
       "      background-color: #3B4455;\n",
       "      fill: #D2E3FC;\n",
       "    }\n",
       "\n",
       "    [theme=dark] .colab-df-convert:hover {\n",
       "      background-color: #434B5C;\n",
       "      box-shadow: 0px 1px 3px 1px rgba(0, 0, 0, 0.15);\n",
       "      filter: drop-shadow(0px 1px 2px rgba(0, 0, 0, 0.3));\n",
       "      fill: #FFFFFF;\n",
       "    }\n",
       "  </style>\n",
       "\n",
       "    <script>\n",
       "      const buttonEl =\n",
       "        document.querySelector('#df-9261cfd8-7497-4bfa-9e46-a46d80f168fa button.colab-df-convert');\n",
       "      buttonEl.style.display =\n",
       "        google.colab.kernel.accessAllowed ? 'block' : 'none';\n",
       "\n",
       "      async function convertToInteractive(key) {\n",
       "        const element = document.querySelector('#df-9261cfd8-7497-4bfa-9e46-a46d80f168fa');\n",
       "        const dataTable =\n",
       "          await google.colab.kernel.invokeFunction('convertToInteractive',\n",
       "                                                    [key], {});\n",
       "        if (!dataTable) return;\n",
       "\n",
       "        const docLinkHtml = 'Like what you see? Visit the ' +\n",
       "          '<a target=\"_blank\" href=https://colab.research.google.com/notebooks/data_table.ipynb>data table notebook</a>'\n",
       "          + ' to learn more about interactive tables.';\n",
       "        element.innerHTML = '';\n",
       "        dataTable['output_type'] = 'display_data';\n",
       "        await google.colab.output.renderOutput(dataTable, element);\n",
       "        const docLink = document.createElement('div');\n",
       "        docLink.innerHTML = docLinkHtml;\n",
       "        element.appendChild(docLink);\n",
       "      }\n",
       "    </script>\n",
       "  </div>\n",
       "\n",
       "\n",
       "<div id=\"df-a14504cd-7430-45fa-ab17-6666df08e792\">\n",
       "  <button class=\"colab-df-quickchart\" onclick=\"quickchart('df-a14504cd-7430-45fa-ab17-6666df08e792')\"\n",
       "            title=\"Suggest charts\"\n",
       "            style=\"display:none;\">\n",
       "\n",
       "<svg xmlns=\"http://www.w3.org/2000/svg\" height=\"24px\"viewBox=\"0 0 24 24\"\n",
       "     width=\"24px\">\n",
       "    <g>\n",
       "        <path d=\"M19 3H5c-1.1 0-2 .9-2 2v14c0 1.1.9 2 2 2h14c1.1 0 2-.9 2-2V5c0-1.1-.9-2-2-2zM9 17H7v-7h2v7zm4 0h-2V7h2v10zm4 0h-2v-4h2v4z\"/>\n",
       "    </g>\n",
       "</svg>\n",
       "  </button>\n",
       "\n",
       "<style>\n",
       "  .colab-df-quickchart {\n",
       "      --bg-color: #E8F0FE;\n",
       "      --fill-color: #1967D2;\n",
       "      --hover-bg-color: #E2EBFA;\n",
       "      --hover-fill-color: #174EA6;\n",
       "      --disabled-fill-color: #AAA;\n",
       "      --disabled-bg-color: #DDD;\n",
       "  }\n",
       "\n",
       "  [theme=dark] .colab-df-quickchart {\n",
       "      --bg-color: #3B4455;\n",
       "      --fill-color: #D2E3FC;\n",
       "      --hover-bg-color: #434B5C;\n",
       "      --hover-fill-color: #FFFFFF;\n",
       "      --disabled-bg-color: #3B4455;\n",
       "      --disabled-fill-color: #666;\n",
       "  }\n",
       "\n",
       "  .colab-df-quickchart {\n",
       "    background-color: var(--bg-color);\n",
       "    border: none;\n",
       "    border-radius: 50%;\n",
       "    cursor: pointer;\n",
       "    display: none;\n",
       "    fill: var(--fill-color);\n",
       "    height: 32px;\n",
       "    padding: 0;\n",
       "    width: 32px;\n",
       "  }\n",
       "\n",
       "  .colab-df-quickchart:hover {\n",
       "    background-color: var(--hover-bg-color);\n",
       "    box-shadow: 0 1px 2px rgba(60, 64, 67, 0.3), 0 1px 3px 1px rgba(60, 64, 67, 0.15);\n",
       "    fill: var(--button-hover-fill-color);\n",
       "  }\n",
       "\n",
       "  .colab-df-quickchart-complete:disabled,\n",
       "  .colab-df-quickchart-complete:disabled:hover {\n",
       "    background-color: var(--disabled-bg-color);\n",
       "    fill: var(--disabled-fill-color);\n",
       "    box-shadow: none;\n",
       "  }\n",
       "\n",
       "  .colab-df-spinner {\n",
       "    border: 2px solid var(--fill-color);\n",
       "    border-color: transparent;\n",
       "    border-bottom-color: var(--fill-color);\n",
       "    animation:\n",
       "      spin 1s steps(1) infinite;\n",
       "  }\n",
       "\n",
       "  @keyframes spin {\n",
       "    0% {\n",
       "      border-color: transparent;\n",
       "      border-bottom-color: var(--fill-color);\n",
       "      border-left-color: var(--fill-color);\n",
       "    }\n",
       "    20% {\n",
       "      border-color: transparent;\n",
       "      border-left-color: var(--fill-color);\n",
       "      border-top-color: var(--fill-color);\n",
       "    }\n",
       "    30% {\n",
       "      border-color: transparent;\n",
       "      border-left-color: var(--fill-color);\n",
       "      border-top-color: var(--fill-color);\n",
       "      border-right-color: var(--fill-color);\n",
       "    }\n",
       "    40% {\n",
       "      border-color: transparent;\n",
       "      border-right-color: var(--fill-color);\n",
       "      border-top-color: var(--fill-color);\n",
       "    }\n",
       "    60% {\n",
       "      border-color: transparent;\n",
       "      border-right-color: var(--fill-color);\n",
       "    }\n",
       "    80% {\n",
       "      border-color: transparent;\n",
       "      border-right-color: var(--fill-color);\n",
       "      border-bottom-color: var(--fill-color);\n",
       "    }\n",
       "    90% {\n",
       "      border-color: transparent;\n",
       "      border-bottom-color: var(--fill-color);\n",
       "    }\n",
       "  }\n",
       "</style>\n",
       "\n",
       "  <script>\n",
       "    async function quickchart(key) {\n",
       "      const quickchartButtonEl =\n",
       "        document.querySelector('#' + key + ' button');\n",
       "      quickchartButtonEl.disabled = true;  // To prevent multiple clicks.\n",
       "      quickchartButtonEl.classList.add('colab-df-spinner');\n",
       "      try {\n",
       "        const charts = await google.colab.kernel.invokeFunction(\n",
       "            'suggestCharts', [key], {});\n",
       "      } catch (error) {\n",
       "        console.error('Error during call to suggestCharts:', error);\n",
       "      }\n",
       "      quickchartButtonEl.classList.remove('colab-df-spinner');\n",
       "      quickchartButtonEl.classList.add('colab-df-quickchart-complete');\n",
       "    }\n",
       "    (() => {\n",
       "      let quickchartButtonEl =\n",
       "        document.querySelector('#df-a14504cd-7430-45fa-ab17-6666df08e792 button');\n",
       "      quickchartButtonEl.style.display =\n",
       "        google.colab.kernel.accessAllowed ? 'block' : 'none';\n",
       "    })();\n",
       "  </script>\n",
       "</div>\n",
       "    </div>\n",
       "  </div>\n"
      ],
      "text/plain": [
       "       Year  Present_Price  Kms_Driven Fuel_Type Seller_Type Transmission  \\\n",
       "0  0.128897      -0.236215   -0.256224    Petrol      Dealer       Manual   \n",
       "1 -0.217514       0.221505    0.155911    Diesel      Dealer       Manual   \n",
       "2  1.168129       0.257427   -0.773969    Petrol      Dealer       Manual   \n",
       "3 -0.910335      -0.403079   -0.817758    Petrol      Dealer       Manual   \n",
       "4  0.128897      -0.087890    0.141743    Diesel      Dealer       Manual   \n",
       "\n",
       "   Owner  \n",
       "0      0  \n",
       "1      0  \n",
       "2      0  \n",
       "3      0  \n",
       "4      0  "
      ]
     },
     "execution_count": 15,
     "metadata": {},
     "output_type": "execute_result"
    }
   ],
   "source": [
    "X.head()"
   ]
  },
  {
   "cell_type": "code",
   "execution_count": 16,
   "metadata": {
    "executionInfo": {
     "elapsed": 22,
     "status": "ok",
     "timestamp": 1702215727891,
     "user": {
      "displayName": "Bouras",
      "userId": "12044258327519011260"
     },
     "user_tz": -120
    },
    "id": "PAneymiFPjLU"
   },
   "outputs": [],
   "source": [
    "X=X.values"
   ]
  },
  {
   "cell_type": "code",
   "execution_count": 17,
   "metadata": {
    "colab": {
     "base_uri": "https://localhost:8080/"
    },
    "executionInfo": {
     "elapsed": 22,
     "status": "ok",
     "timestamp": 1702215727891,
     "user": {
      "displayName": "Bouras",
      "userId": "12044258327519011260"
     },
     "user_tz": -120
    },
    "id": "UIRCNcdMMMeA",
    "outputId": "56f76e76-b392-4c38-9a30-700ac7abdc09"
   },
   "outputs": [
    {
     "data": {
      "text/plain": [
       "array([0, 1, 3])"
      ]
     },
     "execution_count": 17,
     "metadata": {},
     "output_type": "execute_result"
    }
   ],
   "source": [
    "df.Fuel_Type.unique()\n",
    "df.Seller_Type.unique()\n",
    "df.Transmission.unique()\n",
    "df.Owner.unique()"
   ]
  },
  {
   "cell_type": "code",
   "execution_count": 17,
   "metadata": {
    "executionInfo": {
     "elapsed": 21,
     "status": "ok",
     "timestamp": 1702215727891,
     "user": {
      "displayName": "Bouras",
      "userId": "12044258327519011260"
     },
     "user_tz": -120
    },
    "id": "B01ouzzZMjrU"
   },
   "outputs": [],
   "source": []
  },
  {
   "cell_type": "code",
   "execution_count": 18,
   "metadata": {
    "executionInfo": {
     "elapsed": 21,
     "status": "ok",
     "timestamp": 1702215727891,
     "user": {
      "displayName": "Bouras",
      "userId": "12044258327519011260"
     },
     "user_tz": -120
    },
    "id": "ig62CZ9Jtbvn"
   },
   "outputs": [],
   "source": [
    "y=df['Selling_Price'].values"
   ]
  },
  {
   "cell_type": "code",
   "execution_count": 19,
   "metadata": {
    "executionInfo": {
     "elapsed": 22,
     "status": "ok",
     "timestamp": 1702215727892,
     "user": {
      "displayName": "Bouras",
      "userId": "12044258327519011260"
     },
     "user_tz": -120
    },
    "id": "pdyot2uttjfo"
   },
   "outputs": [],
   "source": [
    "y=np.array(y).reshape(-1, 1)"
   ]
  },
  {
   "cell_type": "code",
   "execution_count": 20,
   "metadata": {
    "executionInfo": {
     "elapsed": 22,
     "status": "ok",
     "timestamp": 1702215727892,
     "user": {
      "displayName": "Bouras",
      "userId": "12044258327519011260"
     },
     "user_tz": -120
    },
    "id": "8csvZ_hWtlrv"
   },
   "outputs": [],
   "source": [
    "from sklearn.compose import ColumnTransformer\n",
    "from sklearn.preprocessing import OneHotEncoder"
   ]
  },
  {
   "cell_type": "code",
   "execution_count": 21,
   "metadata": {
    "executionInfo": {
     "elapsed": 22,
     "status": "ok",
     "timestamp": 1702215727892,
     "user": {
      "displayName": "Bouras",
      "userId": "12044258327519011260"
     },
     "user_tz": -120
    },
    "id": "JAQrBZ6btwkI"
   },
   "outputs": [],
   "source": [
    "ct=ColumnTransformer(transformers=[('encoder',OneHotEncoder(drop='first'),[3,4,5,6])],remainder='passthrough')\n",
    "#we could let the 7th feature(IDed as 6th column and named Owner) as it is since there could be a uniform scaling among its  values(it was done and no impact was noticed)"
   ]
  },
  {
   "cell_type": "code",
   "execution_count": 22,
   "metadata": {
    "executionInfo": {
     "elapsed": 22,
     "status": "ok",
     "timestamp": 1702215727892,
     "user": {
      "displayName": "Bouras",
      "userId": "12044258327519011260"
     },
     "user_tz": -120
    },
    "id": "4_cS5CeAvZZF"
   },
   "outputs": [],
   "source": [
    "X=np.array(ct.fit_transform(X))"
   ]
  },
  {
   "cell_type": "code",
   "execution_count": 23,
   "metadata": {
    "colab": {
     "base_uri": "https://localhost:8080/"
    },
    "executionInfo": {
     "elapsed": 21,
     "status": "ok",
     "timestamp": 1702215727892,
     "user": {
      "displayName": "Bouras",
      "userId": "12044258327519011260"
     },
     "user_tz": -120
    },
    "id": "59g4vEDrvfO2",
    "outputId": "078ed627-a593-4a49-c9bc-9a09f01c5654"
   },
   "outputs": [
    {
     "name": "stdout",
     "output_type": "stream",
     "text": [
      "[[0.0 1.0 0.0 ... 0.12889700346071423 -0.2362146144825814\n",
      "  -0.2562244610375879]\n",
      " [1.0 0.0 0.0 ... -0.217513693340034 0.22150461673268804\n",
      "  0.1559105027720208]\n",
      " [0.0 1.0 0.0 ... 1.168129093862959 0.257426885511608 -0.7739690093234088]\n",
      " ...\n",
      " [0.0 1.0 0.0 ... -1.603156480543027 0.3906869148527624\n",
      "  1.3133400317608306]\n",
      " [1.0 0.0 0.0 ... 1.168129093862959 0.5645043444281812\n",
      "  -0.7198762953233977]\n",
      " [0.0 1.0 0.0 ... 0.8217183970622106 -0.20029234570366145\n",
      "  -0.8109581223253212]]\n"
     ]
    }
   ],
   "source": [
    "print(X)"
   ]
  },
  {
   "cell_type": "code",
   "execution_count": 24,
   "metadata": {
    "colab": {
     "base_uri": "https://localhost:8080/"
    },
    "executionInfo": {
     "elapsed": 21,
     "status": "ok",
     "timestamp": 1702215727892,
     "user": {
      "displayName": "Bouras",
      "userId": "12044258327519011260"
     },
     "user_tz": -120
    },
    "id": "-IZW9ywPNYLY",
    "outputId": "d97d6fb4-c481-45e8-b908-17dca86c0575"
   },
   "outputs": [
    {
     "data": {
      "text/plain": [
       "(301, 9)"
      ]
     },
     "execution_count": 24,
     "metadata": {},
     "output_type": "execute_result"
    }
   ],
   "source": [
    "X.shape"
   ]
  },
  {
   "cell_type": "code",
   "execution_count": 25,
   "metadata": {
    "executionInfo": {
     "elapsed": 21,
     "status": "ok",
     "timestamp": 1702215727892,
     "user": {
      "displayName": "Bouras",
      "userId": "12044258327519011260"
     },
     "user_tz": -120
    },
    "id": "bq_6HnHr-E1v"
   },
   "outputs": [],
   "source": [
    "from sklearn.model_selection import train_test_split\n",
    "X_train,X_test,y_train,y_test=train_test_split(X,y,test_size=0.25,random_state=42, shuffle=True)\n"
   ]
  },
  {
   "cell_type": "code",
   "execution_count": 26,
   "metadata": {
    "executionInfo": {
     "elapsed": 20,
     "status": "ok",
     "timestamp": 1702215727892,
     "user": {
      "displayName": "Bouras",
      "userId": "12044258327519011260"
     },
     "user_tz": -120
    },
    "id": "bHgaysUtLjZu"
   },
   "outputs": [],
   "source": [
    "#Feature Scaling after the split since we don t want to pass information from the test dataset into our scaler.fit"
   ]
  },
  {
   "cell_type": "code",
   "execution_count": 27,
   "metadata": {
    "executionInfo": {
     "elapsed": 20,
     "status": "ok",
     "timestamp": 1702215727892,
     "user": {
      "displayName": "Bouras",
      "userId": "12044258327519011260"
     },
     "user_tz": -120
    },
    "id": "t0QLNUUZwS1e"
   },
   "outputs": [],
   "source": [
    "from sklearn.preprocessing import StandardScaler\n",
    "scaler_X=StandardScaler()\n",
    "scaler_y=StandardScaler()\n",
    "X_train[:,6:]=scaler_X.fit_transform(X_train[:,6:])\n",
    "X_test[:,6:]=scaler_X.transform(X_test[:,6:])"
   ]
  },
  {
   "cell_type": "code",
   "execution_count": 27,
   "metadata": {
    "executionInfo": {
     "elapsed": 20,
     "status": "ok",
     "timestamp": 1702215727892,
     "user": {
      "displayName": "Bouras",
      "userId": "12044258327519011260"
     },
     "user_tz": -120
    },
    "id": "fNywUXBfNQJS"
   },
   "outputs": [],
   "source": []
  },
  {
   "cell_type": "code",
   "execution_count": 28,
   "metadata": {
    "executionInfo": {
     "elapsed": 19,
     "status": "ok",
     "timestamp": 1702215727892,
     "user": {
      "displayName": "Bouras",
      "userId": "12044258327519011260"
     },
     "user_tz": -120
    },
    "id": "LTAlZdX0wvkl"
   },
   "outputs": [],
   "source": [
    "y_train=scaler_y.fit_transform(y_train)\n",
    "y_test=scaler_y.transform(y_test)"
   ]
  },
  {
   "cell_type": "code",
   "execution_count": 29,
   "metadata": {
    "executionInfo": {
     "elapsed": 19,
     "status": "ok",
     "timestamp": 1702215727892,
     "user": {
      "displayName": "Bouras",
      "userId": "12044258327519011260"
     },
     "user_tz": -120
    },
    "id": "8nJp5X-X2FPr"
   },
   "outputs": [],
   "source": [
    "y_train=np.array(y_train)\n",
    "y_test=np.array(y_test)"
   ]
  },
  {
   "cell_type": "markdown",
   "metadata": {
    "id": "BZ3_A_hfUK7M"
   },
   "source": [
    "#Linear Model"
   ]
  },
  {
   "cell_type": "code",
   "execution_count": 30,
   "metadata": {
    "executionInfo": {
     "elapsed": 391,
     "status": "ok",
     "timestamp": 1702215728264,
     "user": {
      "displayName": "Bouras",
      "userId": "12044258327519011260"
     },
     "user_tz": -120
    },
    "id": "W21jiS1dUOrH"
   },
   "outputs": [],
   "source": [
    "from sklearn.linear_model import LinearRegression\n",
    "from sklearn.model_selection import RepeatedKFold, KFold\n",
    "from sklearn.metrics import mean_squared_error, r2_score"
   ]
  },
  {
   "cell_type": "code",
   "execution_count": 31,
   "metadata": {
    "colab": {
     "base_uri": "https://localhost:8080/"
    },
    "executionInfo": {
     "elapsed": 5,
     "status": "ok",
     "timestamp": 1702215728264,
     "user": {
      "displayName": "Bouras",
      "userId": "12044258327519011260"
     },
     "user_tz": -120
    },
    "id": "vphQ3DecZ5Tg",
    "outputId": "8a1df622-3c57-417e-d0c0-1fb459a99486"
   },
   "outputs": [
    {
     "name": "stdout",
     "output_type": "stream",
     "text": [
      "R-squared on Train Set: 0.8862\n",
      "Mean Squared Error on Test Set: 0.1301\n",
      "R-squared on Test Set: 0.8809\n"
     ]
    }
   ],
   "source": [
    "lin_reg = LinearRegression()\n",
    "lin_reg.fit(X_train,y_train)\n",
    "y_pred_train=lin_reg.predict(X_train)\n",
    "y_pred_test=lin_reg.predict(X_test)\n",
    "\n",
    "print(f\"R-squared on Train Set: {r2_score(y_train,y_pred_train):.4f}\")\n",
    "print(f\"Mean Squared Error on Test Set: {mean_squared_error(y_test, y_pred_test):.4f}\")\n",
    "print(f\"R-squared on Test Set: {r2_score(y_test,y_pred_test):.4f}\")"
   ]
  },
  {
   "cell_type": "code",
   "execution_count": 32,
   "metadata": {
    "colab": {
     "base_uri": "https://localhost:8080/"
    },
    "executionInfo": {
     "elapsed": 6,
     "status": "ok",
     "timestamp": 1702215728265,
     "user": {
      "displayName": "Bouras",
      "userId": "12044258327519011260"
     },
     "user_tz": -120
    },
    "id": "_SCc2X2YmxDP",
    "outputId": "bffaa42b-c47d-41dd-c69c-5cbd8653c969"
   },
   "outputs": [
    {
     "data": {
      "text/plain": [
       "0.8862393789819905"
      ]
     },
     "execution_count": 32,
     "metadata": {},
     "output_type": "execute_result"
    }
   ],
   "source": [
    "lin_reg.score(X_train, y_train)"
   ]
  },
  {
   "cell_type": "code",
   "execution_count": 33,
   "metadata": {
    "colab": {
     "base_uri": "https://localhost:8080/"
    },
    "executionInfo": {
     "elapsed": 5,
     "status": "ok",
     "timestamp": 1702215728265,
     "user": {
      "displayName": "Bouras",
      "userId": "12044258327519011260"
     },
     "user_tz": -120
    },
    "id": "PFgYpde-m768",
    "outputId": "7d826a33-4998-4975-fa4a-b49f63ddbf87"
   },
   "outputs": [
    {
     "data": {
      "text/plain": [
       "0.8808753095516437"
      ]
     },
     "execution_count": 33,
     "metadata": {},
     "output_type": "execute_result"
    }
   ],
   "source": [
    "lin_reg.score(X_test, y_test)"
   ]
  },
  {
   "cell_type": "code",
   "execution_count": 33,
   "metadata": {
    "executionInfo": {
     "elapsed": 5,
     "status": "ok",
     "timestamp": 1702215728265,
     "user": {
      "displayName": "Bouras",
      "userId": "12044258327519011260"
     },
     "user_tz": -120
    },
    "id": "IvdLXS7EnHSE"
   },
   "outputs": [],
   "source": []
  },
  {
   "cell_type": "code",
   "execution_count": 34,
   "metadata": {
    "colab": {
     "base_uri": "https://localhost:8080/"
    },
    "executionInfo": {
     "elapsed": 5,
     "status": "ok",
     "timestamp": 1702215728265,
     "user": {
      "displayName": "Bouras",
      "userId": "12044258327519011260"
     },
     "user_tz": -120
    },
    "id": "iHbQTvE3kK7e",
    "outputId": "924795dc-ef68-4c4b-96f3-225e602c2cfb"
   },
   "outputs": [
    {
     "data": {
      "text/plain": [
       "(76, 1)"
      ]
     },
     "execution_count": 34,
     "metadata": {},
     "output_type": "execute_result"
    }
   ],
   "source": [
    "y_test.shape"
   ]
  },
  {
   "cell_type": "code",
   "execution_count": 35,
   "metadata": {
    "colab": {
     "base_uri": "https://localhost:8080/"
    },
    "executionInfo": {
     "elapsed": 4,
     "status": "ok",
     "timestamp": 1702215728265,
     "user": {
      "displayName": "Bouras",
      "userId": "12044258327519011260"
     },
     "user_tz": -120
    },
    "id": "79DUJ0SrjVCu",
    "outputId": "ab534f04-76c6-481c-af1f-b440eabc6f97"
   },
   "outputs": [
    {
     "data": {
      "text/plain": [
       "0.8862393789819905"
      ]
     },
     "execution_count": 35,
     "metadata": {},
     "output_type": "execute_result"
    }
   ],
   "source": [
    "r2_score(y_train,y_pred_train) #(y_true,y_pred) sklearn r_2 score is not symmetrical"
   ]
  },
  {
   "cell_type": "code",
   "execution_count": 36,
   "metadata": {
    "colab": {
     "base_uri": "https://localhost:8080/"
    },
    "executionInfo": {
     "elapsed": 3,
     "status": "ok",
     "timestamp": 1702215728265,
     "user": {
      "displayName": "Bouras",
      "userId": "12044258327519011260"
     },
     "user_tz": -120
    },
    "id": "SKNZvouijX2Q",
    "outputId": "887e8ae2-5fef-4b0f-d5c3-f5577fcdabd4"
   },
   "outputs": [
    {
     "data": {
      "text/plain": [
       "0.8808753095516437"
      ]
     },
     "execution_count": 36,
     "metadata": {},
     "output_type": "execute_result"
    }
   ],
   "source": [
    "r2_score(y_test,y_pred_test)"
   ]
  },
  {
   "cell_type": "code",
   "execution_count": 37,
   "metadata": {
    "colab": {
     "base_uri": "https://localhost:8080/"
    },
    "executionInfo": {
     "elapsed": 3,
     "status": "ok",
     "timestamp": 1702215728265,
     "user": {
      "displayName": "Bouras",
      "userId": "12044258327519011260"
     },
     "user_tz": -120
    },
    "id": "FT7K1XJ8XUzs",
    "outputId": "acf81049-b3c6-41fe-db4d-f2feb86a7b27"
   },
   "outputs": [
    {
     "data": {
      "text/plain": [
       "array([[ 0.48235871,  0.14395847, -0.24197958, -0.33224558,  0.02279584,\n",
       "        -1.23134818,  0.21050175,  0.75966034, -0.04054807]])"
      ]
     },
     "execution_count": 37,
     "metadata": {},
     "output_type": "execute_result"
    }
   ],
   "source": [
    "lin_reg.coef_"
   ]
  },
  {
   "cell_type": "code",
   "execution_count": 38,
   "metadata": {
    "colab": {
     "base_uri": "https://localhost:8080/",
     "height": 487
    },
    "executionInfo": {
     "elapsed": 455,
     "status": "ok",
     "timestamp": 1702215728718,
     "user": {
      "displayName": "Bouras",
      "userId": "12044258327519011260"
     },
     "user_tz": -120
    },
    "id": "87RcGVBZMHCm",
    "outputId": "f5b66eed-fef3-4dd6-b6f3-bf930c514d1e"
   },
   "outputs": [
    {
     "data": {
      "image/png": "[encoded data removed]",
      "text/plain": [
       "<Figure size 640x480 with 1 Axes>"
      ]
     },
     "metadata": {},
     "output_type": "display_data"
    }
   ],
   "source": [
    "train_predictions=lin_reg.predict(X_train)\n",
    "test_predictions=lin_reg.predict(X_test)\n",
    "mse = mean_squared_error(y_test, test_predictions)\n",
    "r2 = r2_score(y_test,test_predictions )\n",
    "textstr = f'MSE: {mse:.4f}\\nR2: {r2:.4f}'\n",
    "props = dict(boxstyle='round', facecolor='wheat', alpha=0.5)\n",
    "\n",
    "plt.scatter(train_predictions, y_train, label=\"Train samples\", c=\"#d95f02\")\n",
    "plt.scatter(test_predictions, y_test, label=\"Test samples\", c=\"#7570b3\")\n",
    "plt.title(\"Linear Regression Model\")\n",
    "plt.xlabel(\"Predicted value\")\n",
    "plt.ylabel(\"True value\")\n",
    "plt.legend()\n",
    "plt.plot([min(train_predictions), max(train_predictions)], [min(train_predictions), max(train_predictions)], c=\"k\", zorder=0)\n",
    "plt.xlim([min(train_predictions), max(train_predictions)])\n",
    "plt.ylim([min(train_predictions), max(train_predictions)])\n",
    "plt.tight_layout()\n",
    "plt.legend()\n",
    "\n",
    "plt.text(0.70, 0.95, textstr, transform=plt.gca().transAxes, fontsize=10, verticalalignment='top', bbox=props)\n",
    "plt.show()"
   ]
  },
  {
   "cell_type": "code",
   "execution_count": 39,
   "metadata": {
    "executionInfo": {
     "elapsed": 4,
     "status": "ok",
     "timestamp": 1702215728718,
     "user": {
      "displayName": "Bouras",
      "userId": "12044258327519011260"
     },
     "user_tz": -120
    },
    "id": "rJt0oQnlMLtr"
   },
   "outputs": [],
   "source": [
    "#Although the r^2 score of the model is quite satisfying(88%) we  notice a slight curve in the above plot.We should consider trying Polynomial Features Transformation and re evaluate the Linear Model in search of better metric scores"
   ]
  },
  {
   "cell_type": "markdown",
   "metadata": {
    "id": "LWIFppRXqtPX"
   },
   "source": [
    "#Ridge Regression"
   ]
  },
  {
   "cell_type": "code",
   "execution_count": 41,
   "metadata": {
    "executionInfo": {
     "elapsed": 3,
     "status": "ok",
     "timestamp": 1702215729142,
     "user": {
      "displayName": "Bouras",
      "userId": "12044258327519011260"
     },
     "user_tz": -120
    },
    "id": "-VTmsw06blk7"
   },
   "outputs": [],
   "source": [
    "from sklearn.linear_model import RidgeCV ,LassoCV ,ElasticNetCV\n",
    "from numpy import arange"
   ]
  },
  {
   "cell_type": "code",
   "execution_count": 42,
   "metadata": {
    "executionInfo": {
     "elapsed": 3,
     "status": "ok",
     "timestamp": 1702215729142,
     "user": {
      "displayName": "Bouras",
      "userId": "12044258327519011260"
     },
     "user_tz": -120
    },
    "id": "LgPqFXQsf43Q"
   },
   "outputs": [],
   "source": [
    "cv = RepeatedKFold(n_splits=10, n_repeats=1, random_state=42 ) #since we want to evaluate many different models and we want to do HPO as well we will set the number of k-fold iterations to 1"
   ]
  },
  {
   "cell_type": "code",
   "execution_count": 43,
   "metadata": {
    "colab": {
     "base_uri": "https://localhost:8080/"
    },
    "executionInfo": {
     "elapsed": 2940,
     "status": "ok",
     "timestamp": 1702215732079,
     "user": {
      "displayName": "Bouras",
      "userId": "12044258327519011260"
     },
     "user_tz": -120
    },
    "id": "58UP7VNPithY",
    "outputId": "63b75f2f-dfa4-4b50-fde7-5372e6032a11"
   },
   "outputs": [
    {
     "name": "stdout",
     "output_type": "stream",
     "text": [
      "Ridge best alpha (lambda): 20.010000\n"
     ]
    },
    {
     "data": {
      "text/plain": [
       "array([[ 0.17789417, -0.14732801, -0.2226799 , -0.1825506 , -0.0034702 ,\n",
       "        -0.04940813,  0.20842689,  0.70675471, -0.03156468]])"
      ]
     },
     "execution_count": 43,
     "metadata": {},
     "output_type": "execute_result"
    }
   ],
   "source": [
    "# define Ridge model\n",
    "RidgeModel = RidgeCV(alphas=arange(0.01, 1000, 5), cv=cv) #10000 50\n",
    "# fit model\n",
    "RidgeModel.fit(X_train, y_train)\n",
    "# summarize chosen configuration\n",
    "print('Ridge best alpha (lambda): %f' % RidgeModel.alpha_)\n",
    "RidgeModel.coef_\n"
   ]
  },
  {
   "cell_type": "code",
   "execution_count": 44,
   "metadata": {
    "colab": {
     "base_uri": "https://localhost:8080/"
    },
    "executionInfo": {
     "elapsed": 2,
     "status": "ok",
     "timestamp": 1702215732079,
     "user": {
      "displayName": "Bouras",
      "userId": "12044258327519011260"
     },
     "user_tz": -120
    },
    "id": "aHzBo6QXkP6Z",
    "outputId": "95f0f34a-fcac-43ca-e1ba-f56cc7d3de09"
   },
   "outputs": [
    {
     "name": "stdout",
     "output_type": "stream",
     "text": [
      "R^2 score Train: 0.8738522122963155\n",
      "MSE Train: 0.13010590082405157\n",
      "R^2 score Test: 0.8673444417843772\n",
      "MSE Test: 0.1448840776500768\n"
     ]
    }
   ],
   "source": [
    "y_pred_train=RidgeModel.predict(X_train)\n",
    "print('R^2 score Train:',  r2_score(y_train,y_pred_train))\n",
    "print('MSE Train:',  mean_squared_error(y_test,y_pred_test))\n",
    "\n",
    "y_pred_test=RidgeModel.predict(X_test)\n",
    "\n",
    "print('R^2 score Test:',  r2_score(y_test,y_pred_test))\n",
    "print('MSE Test:',  mean_squared_error(y_test,y_pred_test))"
   ]
  },
  {
   "cell_type": "code",
   "execution_count": 45,
   "metadata": {
    "colab": {
     "base_uri": "https://localhost:8080/",
     "height": 487
    },
    "executionInfo": {
     "elapsed": 638,
     "status": "ok",
     "timestamp": 1702215732715,
     "user": {
      "displayName": "Bouras",
      "userId": "12044258327519011260"
     },
     "user_tz": -120
    },
    "id": "QgHh0FVSisce",
    "outputId": "d73fe6db-537b-4d04-ddce-781845e44225"
   },
   "outputs": [
    {
     "data": {
      "image/png": "[encoded data removed]",
      "text/plain": [
       "<Figure size 640x480 with 1 Axes>"
      ]
     },
     "metadata": {},
     "output_type": "display_data"
    }
   ],
   "source": [
    "train_predictions=RidgeModel.predict(X_train)\n",
    "test_predictions=RidgeModel.predict(X_test)\n",
    "mse = mean_squared_error(y_test, test_predictions)\n",
    "r2 = r2_score(y_test, test_predictions)\n",
    "textstr = f'MSE: {mse:.4f}\\nR2: {r2:.4f}\\nBest alpha: {RidgeModel.alpha_:.4f}'\n",
    "props = dict(boxstyle='round', facecolor='wheat', alpha=0.5)\n",
    "\n",
    "plt.scatter(train_predictions, y_train, label=\"Train samples\", c=\"#d95f02\")\n",
    "plt.scatter(test_predictions, y_test, label=\"Test samples\", c=\"#7570b3\")\n",
    "plt.title(\"Ridge Regression Model\")\n",
    "plt.xlabel(\"Predicted value\")\n",
    "plt.ylabel(\"True value\")\n",
    "plt.legend()\n",
    "plt.plot([min(train_predictions), max(train_predictions)], [min(train_predictions), max(train_predictions)], c=\"k\", zorder=0)\n",
    "plt.xlim([min(train_predictions), max(train_predictions)])\n",
    "plt.ylim([min(train_predictions), max(train_predictions)])\n",
    "plt.tight_layout()\n",
    "plt.legend()\n",
    "\n",
    "plt.text(0.70, 0.95, textstr, transform=plt.gca().transAxes, fontsize=10, verticalalignment='top', bbox=props)\n",
    "plt.show()"
   ]
  },
  {
   "cell_type": "code",
   "execution_count": 46,
   "metadata": {
    "colab": {
     "base_uri": "https://localhost:8080/"
    },
    "executionInfo": {
     "elapsed": 4,
     "status": "ok",
     "timestamp": 1702215732715,
     "user": {
      "displayName": "Bouras",
      "userId": "12044258327519011260"
     },
     "user_tz": -120
    },
    "id": "6V8NzgcRSciF",
    "outputId": "8f9527da-f307-42ec-928f-fa6b51f41b7c"
   },
   "outputs": [
    {
     "data": {
      "text/plain": [
       "array([[ 0.17789417, -0.14732801, -0.2226799 , -0.1825506 , -0.0034702 ,\n",
       "        -0.04940813,  0.20842689,  0.70675471, -0.03156468]])"
      ]
     },
     "execution_count": 46,
     "metadata": {},
     "output_type": "execute_result"
    }
   ],
   "source": [
    "RidgeModel.coef_"
   ]
  },
  {
   "cell_type": "markdown",
   "metadata": {
    "id": "YcBxMh7euhLq"
   },
   "source": [
    "#Lasso"
   ]
  },
  {
   "cell_type": "code",
   "execution_count": 47,
   "metadata": {
    "executionInfo": {
     "elapsed": 2,
     "status": "ok",
     "timestamp": 1702215733143,
     "user": {
      "displayName": "Bouras",
      "userId": "12044258327519011260"
     },
     "user_tz": -120
    },
    "id": "wPc58eGisz2Z"
   },
   "outputs": [],
   "source": [
    "from sklearn.linear_model import LassoCV     #after a few searches on bigger spaces it was concluded that the best alpha is close to 0\n",
    "# define Lasso model\n",
    "LassoModel = LassoCV( alphas=arange(0.000001, 0.001, 0.000001), cv=cv, n_jobs=-1,max_iter =10000  )  # 1000 5\n",
    "# n_jobs: Number of CPUs to use during the cross validation. \"-1\"\" means using all processors\n"
   ]
  },
  {
   "cell_type": "code",
   "execution_count": 48,
   "metadata": {
    "executionInfo": {
     "elapsed": 2,
     "status": "ok",
     "timestamp": 1702215733143,
     "user": {
      "displayName": "Bouras",
      "userId": "12044258327519011260"
     },
     "user_tz": -120
    },
    "id": "IwKNoN8s1f7p"
   },
   "outputs": [],
   "source": [
    "y_train=y_train.ravel()"
   ]
  },
  {
   "cell_type": "code",
   "execution_count": 49,
   "metadata": {
    "colab": {
     "base_uri": "https://localhost:8080/"
    },
    "executionInfo": {
     "elapsed": 1564,
     "status": "ok",
     "timestamp": 1702215734705,
     "user": {
      "displayName": "Bouras",
      "userId": "12044258327519011260"
     },
     "user_tz": -120
    },
    "id": "j2ukZsPRu0hY",
    "outputId": "5e88cc3d-4b72-4713-a5fd-71c97996ac97"
   },
   "outputs": [
    {
     "name": "stdout",
     "output_type": "stream",
     "text": [
      "Lasso best alpha (lambda): 0.001000\n"
     ]
    },
    {
     "data": {
      "text/plain": [
       "array([ 0.33756597,  0.        , -0.23856728, -0.31465362,  0.        ,\n",
       "       -0.98604661,  0.21276407,  0.75916392, -0.04001125])"
      ]
     },
     "execution_count": 49,
     "metadata": {},
     "output_type": "execute_result"
    }
   ],
   "source": [
    "LassoModel.fit(X_train, y_train )\n",
    "# summarize chosen configuration\n",
    "print('Lasso best alpha (lambda): %f' % LassoModel.alpha_)\n",
    "LassoModel.coef_"
   ]
  },
  {
   "cell_type": "code",
   "execution_count": 50,
   "metadata": {
    "colab": {
     "base_uri": "https://localhost:8080/"
    },
    "executionInfo": {
     "elapsed": 3,
     "status": "ok",
     "timestamp": 1702215734705,
     "user": {
      "displayName": "Bouras",
      "userId": "12044258327519011260"
     },
     "user_tz": -120
    },
    "id": "tKmfhbAayqPf",
    "outputId": "4e13173e-7aa8-491a-f0cd-b6b6c2471573"
   },
   "outputs": [
    {
     "name": "stdout",
     "output_type": "stream",
     "text": [
      "R^2 score Train: 0.8857722809831153\n",
      "MSE Train: 0.11422771901688468\n",
      "R^2 score Test: 0.8810231263630625\n",
      "MSE Test: 0.1299444578911533\n"
     ]
    }
   ],
   "source": [
    "y_pred_train=LassoModel.predict(X_train)\n",
    "y_pred_test=LassoModel.predict(X_test)\n",
    "\n",
    "print('R^2 score Train:',  r2_score(y_train,y_pred_train))\n",
    "print('MSE Train:',  mean_squared_error(y_train,y_pred_train))\n",
    "print('R^2 score Test:',  r2_score(y_test,y_pred_test))\n",
    "print('MSE Test:',  mean_squared_error(y_test,y_pred_test))\n"
   ]
  },
  {
   "cell_type": "code",
   "execution_count": 51,
   "metadata": {
    "colab": {
     "base_uri": "https://localhost:8080/",
     "height": 0
    },
    "executionInfo": {
     "elapsed": 607,
     "status": "ok",
     "timestamp": 1702215735310,
     "user": {
      "displayName": "Bouras",
      "userId": "12044258327519011260"
     },
     "user_tz": -120
    },
    "id": "q4B6WlqwzFVO",
    "outputId": "0861a866-24b5-49a5-ec28-fedcf50e0be8"
   },
   "outputs": [
    {
     "data": {
      "image/png": "[encoded data removed]",
      "text/plain": [
       "<Figure size 640x480 with 1 Axes>"
      ]
     },
     "metadata": {},
     "output_type": "display_data"
    }
   ],
   "source": [
    "train_predictions=LassoModel.predict(X_train)\n",
    "test_predictions=LassoModel.predict(X_test)\n",
    "mse = mean_squared_error(y_test, test_predictions)\n",
    "r2 = r2_score(y_test, test_predictions)\n",
    "textstr = f'MSE: {mse:.4f}\\nR2: {r2:.4f}\\nBest alpha: {LassoModel.alpha_:.4f}'\n",
    "props = dict(boxstyle='round', facecolor='wheat', alpha=0.5)\n",
    "\n",
    "plt.scatter(train_predictions, y_train, label=\"Train samples\", c=\"#d95f02\")\n",
    "plt.scatter(test_predictions, y_test, label=\"Test samples\", c=\"#7570b3\")\n",
    "plt.title(\"Lasso Regression Model\")\n",
    "plt.xlabel(\"Predicted value\")\n",
    "plt.ylabel(\"True value\")\n",
    "plt.legend()\n",
    "plt.plot([min(train_predictions), max(train_predictions)], [min(train_predictions), max(train_predictions)], c=\"k\", zorder=0)\n",
    "plt.xlim([min(train_predictions), max(train_predictions)])\n",
    "plt.ylim([min(train_predictions), max(train_predictions)])\n",
    "plt.tight_layout()\n",
    "plt.legend()\n",
    "\n",
    "plt.text(0.70, 0.95, textstr, transform=plt.gca().transAxes, fontsize=10, verticalalignment='top', bbox=props)\n",
    "plt.show()"
   ]
  },
  {
   "cell_type": "markdown",
   "metadata": {
    "id": "m7jpvBOx23lb"
   },
   "source": [
    "#Elastic-Net"
   ]
  },
  {
   "cell_type": "code",
   "execution_count": 52,
   "metadata": {
    "executionInfo": {
     "elapsed": 4,
     "status": "ok",
     "timestamp": 1702215735310,
     "user": {
      "displayName": "Bouras",
      "userId": "12044258327519011260"
     },
     "user_tz": -120
    },
    "id": "GdCg1tA0714j"
   },
   "outputs": [],
   "source": [
    "import warnings\n",
    "warnings.filterwarnings('ignore')"
   ]
  },
  {
   "cell_type": "code",
   "execution_count": 53,
   "metadata": {
    "colab": {
     "base_uri": "https://localhost:8080/"
    },
    "executionInfo": {
     "elapsed": 3410,
     "status": "ok",
     "timestamp": 1702215738716,
     "user": {
      "displayName": "Bouras",
      "userId": "12044258327519011260"
     },
     "user_tz": -120
    },
    "id": "QV02Da5E6REg",
    "outputId": "6b15a9ab-02d0-4cde-96ee-22ce0015963a"
   },
   "outputs": [
    {
     "name": "stdout",
     "output_type": "stream",
     "text": [
      "ElasticNet best alpha (lambda): 0.100000\n",
      "ElasticNet best l1_ratio (alpha): 0.000000\n"
     ]
    }
   ],
   "source": [
    "from sklearn.linear_model import ElasticNetCV\n",
    "# Define Elastic net model\n",
    "ratios = arange(0, 1, 0.01)\n",
    "alphas = [1e-5, 1e-4, 1e-3, 1e-2, 1e-1, 0.0, 1.0, 10.0, 100.0, 1000.0]\n",
    "ElasticNetModel = ElasticNetCV(l1_ratio=ratios, alphas=alphas, cv=cv, n_jobs=-1)\n",
    "# fit model\n",
    "ElasticNetModel.fit(X_train, y_train)\n",
    "# summarize chosen configuration\n",
    "print('ElasticNet best alpha (lambda): %f' % ElasticNetModel.alpha_)\n",
    "print('ElasticNet best l1_ratio (alpha): %f' % ElasticNetModel.l1_ratio_)"
   ]
  },
  {
   "cell_type": "code",
   "execution_count": 54,
   "metadata": {
    "colab": {
     "base_uri": "https://localhost:8080/"
    },
    "executionInfo": {
     "elapsed": 2,
     "status": "ok",
     "timestamp": 1702215738716,
     "user": {
      "displayName": "Bouras",
      "userId": "12044258327519011260"
     },
     "user_tz": -120
    },
    "id": "BvjUFMCT6RHW",
    "outputId": "82c72d2f-0e93-46ae-ad5d-a4c9058484d8"
   },
   "outputs": [
    {
     "name": "stdout",
     "output_type": "stream",
     "text": [
      "R^2 score Train: 0.8725109928019402\n",
      "MSE Train: 0.14747999962981945\n",
      "R^2 score Test: 0.8649676210536779\n",
      "MSE Test: 0.14747999962981945\n"
     ]
    }
   ],
   "source": [
    "y_pred_train=ElasticNetModel.predict(X_train)\n",
    "y_pred_test=ElasticNetModel.predict(X_test)\n",
    "\n",
    "print('R^2 score Train:',  r2_score(y_train,y_pred_train))\n",
    "print('MSE Train:',  mean_squared_error(y_test,y_pred_test))\n",
    "print('R^2 score Test:',  r2_score(y_test,y_pred_test))\n",
    "print('MSE Test:',  mean_squared_error(y_test,y_pred_test))"
   ]
  },
  {
   "cell_type": "code",
   "execution_count": 55,
   "metadata": {
    "colab": {
     "base_uri": "https://localhost:8080/",
     "height": 487
    },
    "executionInfo": {
     "elapsed": 657,
     "status": "ok",
     "timestamp": 1702215739372,
     "user": {
      "displayName": "Bouras",
      "userId": "12044258327519011260"
     },
     "user_tz": -120
    },
    "id": "O1dC11SgBWE0",
    "outputId": "6e347e7e-013b-4453-93d5-6b02c4b37591"
   },
   "outputs": [
    {
     "data": {
      "image/png": "[encoded data removed]",
      "text/plain": [
       "<Figure size 640x480 with 1 Axes>"
      ]
     },
     "metadata": {},
     "output_type": "display_data"
    }
   ],
   "source": [
    "train_predictions=ElasticNetModel.predict(X_train)\n",
    "test_predictions=ElasticNetModel.predict(X_test)\n",
    "mse = mean_squared_error(y_test, test_predictions)\n",
    "r2 = r2_score(y_test, test_predictions)\n",
    "textstr = f'MSE: {mse:.4f}\\nR2: {r2:.4f}\\nBest alpha(lambda): {ElasticNetModel.alpha_:.4f} \\nBest l1_ratio(alpha): {ElasticNetModel.l1_ratio_:.4f}'\n",
    "props = dict(boxstyle='round', facecolor='wheat', alpha=0.5)\n",
    "\n",
    "plt.scatter(train_predictions, y_train, label=\"Train samples\", c=\"#d95f02\")\n",
    "plt.scatter(test_predictions, y_test, label=\"Test samples\", c=\"#7570b3\")\n",
    "plt.title(\"Elastic Regression Model\")\n",
    "plt.xlabel(\"Predicted value\")\n",
    "plt.ylabel(\"True value\")\n",
    "plt.legend()\n",
    "plt.plot([min(train_predictions), max(train_predictions)], [min(train_predictions), max(train_predictions)], c=\"k\", zorder=0)\n",
    "plt.xlim([min(train_predictions), max(train_predictions)])\n",
    "plt.ylim([min(train_predictions), max(train_predictions)])\n",
    "plt.tight_layout()\n",
    "plt.legend()\n",
    "\n",
    "plt.text(0.70, 0.95, textstr, transform=plt.gca().transAxes, fontsize=10, verticalalignment='top', bbox=props)\n",
    "plt.show()"
   ]
  },
  {
   "cell_type": "code",
   "execution_count": 83,
   "metadata": {
    "colab": {
     "base_uri": "https://localhost:8080/"
    },
    "executionInfo": {
     "elapsed": 260,
     "status": "ok",
     "timestamp": 1702217520575,
     "user": {
      "displayName": "Bouras",
      "userId": "12044258327519011260"
     },
     "user_tz": -120
    },
    "id": "zEd-E7qJI_CT",
    "outputId": "d840fec7-4a3d-4b27-fbb1-43d167b96de3"
   },
   "outputs": [
    {
     "data": {
      "text/plain": [
       "array([ 0.17498238, -0.14762898, -0.21990392, -0.17519764, -0.00428543,\n",
       "       -0.04385195,  0.20671887,  0.70098707, -0.03047107])"
      ]
     },
     "execution_count": 83,
     "metadata": {},
     "output_type": "execute_result"
    }
   ],
   "source": [
    "ElasticNetModel.coef_"
   ]
  },
  {
   "cell_type": "code",
   "execution_count": 85,
   "metadata": {
    "executionInfo": {
     "elapsed": 286,
     "status": "ok",
     "timestamp": 1702219936463,
     "user": {
      "displayName": "Bouras",
      "userId": "12044258327519011260"
     },
     "user_tz": -120
    },
    "id": "8rp2zJWJCBAX"
   },
   "outputs": [],
   "source": []
  },
  {
   "cell_type": "markdown",
   "metadata": {
    "id": "CzwsfmoKrnQP"
   },
   "source": [
    "#ARD Regression"
   ]
  },
  {
   "cell_type": "code",
   "execution_count": 56,
   "metadata": {
    "executionInfo": {
     "elapsed": 15,
     "status": "ok",
     "timestamp": 1702215739372,
     "user": {
      "displayName": "Bouras",
      "userId": "12044258327519011260"
     },
     "user_tz": -120
    },
    "id": "S9HH6AUFIOVd"
   },
   "outputs": [],
   "source": [
    "from sklearn.linear_model import ARDRegression\n",
    "ARD_Model=ARDRegression()"
   ]
  },
  {
   "cell_type": "code",
   "execution_count": 57,
   "metadata": {
    "colab": {
     "base_uri": "https://localhost:8080/",
     "height": 0
    },
    "executionInfo": {
     "elapsed": 14,
     "status": "ok",
     "timestamp": 1702215739372,
     "user": {
      "displayName": "Bouras",
      "userId": "12044258327519011260"
     },
     "user_tz": -120
    },
    "id": "t-GPRGv1lEWd",
    "outputId": "a81c02da-a5ac-4f10-fc54-f710953f78db"
   },
   "outputs": [
    {
     "data": {
      "text/html": [
       "<style>#sk-container-id-1 {color: black;background-color: white;}#sk-container-id-1 pre{padding: 0;}#sk-container-id-1 div.sk-toggleable {background-color: white;}#sk-container-id-1 label.sk-toggleable__label {cursor: pointer;display: block;width: 100%;margin-bottom: 0;padding: 0.3em;box-sizing: border-box;text-align: center;}#sk-container-id-1 label.sk-toggleable__label-arrow:before {content: \"▸\";float: left;margin-right: 0.25em;color: #696969;}#sk-container-id-1 label.sk-toggleable__label-arrow:hover:before {color: black;}#sk-container-id-1 div.sk-estimator:hover label.sk-toggleable__label-arrow:before {color: black;}#sk-container-id-1 div.sk-toggleable__content {max-height: 0;max-width: 0;overflow: hidden;text-align: left;background-color: #f0f8ff;}#sk-container-id-1 div.sk-toggleable__content pre {margin: 0.2em;color: black;border-radius: 0.25em;background-color: #f0f8ff;}#sk-container-id-1 input.sk-toggleable__control:checked~div.sk-toggleable__content {max-height: 200px;max-width: 100%;overflow: auto;}#sk-container-id-1 input.sk-toggleable__control:checked~label.sk-toggleable__label-arrow:before {content: \"▾\";}#sk-container-id-1 div.sk-estimator input.sk-toggleable__control:checked~label.sk-toggleable__label {background-color: #d4ebff;}#sk-container-id-1 div.sk-label input.sk-toggleable__control:checked~label.sk-toggleable__label {background-color: #d4ebff;}#sk-container-id-1 input.sk-hidden--visually {border: 0;clip: rect(1px 1px 1px 1px);clip: rect(1px, 1px, 1px, 1px);height: 1px;margin: -1px;overflow: hidden;padding: 0;position: absolute;width: 1px;}#sk-container-id-1 div.sk-estimator {font-family: monospace;background-color: #f0f8ff;border: 1px dotted black;border-radius: 0.25em;box-sizing: border-box;margin-bottom: 0.5em;}#sk-container-id-1 div.sk-estimator:hover {background-color: #d4ebff;}#sk-container-id-1 div.sk-parallel-item::after {content: \"\";width: 100%;border-bottom: 1px solid gray;flex-grow: 1;}#sk-container-id-1 div.sk-label:hover label.sk-toggleable__label {background-color: #d4ebff;}#sk-container-id-1 div.sk-serial::before {content: \"\";position: absolute;border-left: 1px solid gray;box-sizing: border-box;top: 0;bottom: 0;left: 50%;z-index: 0;}#sk-container-id-1 div.sk-serial {display: flex;flex-direction: column;align-items: center;background-color: white;padding-right: 0.2em;padding-left: 0.2em;position: relative;}#sk-container-id-1 div.sk-item {position: relative;z-index: 1;}#sk-container-id-1 div.sk-parallel {display: flex;align-items: stretch;justify-content: center;background-color: white;position: relative;}#sk-container-id-1 div.sk-item::before, #sk-container-id-1 div.sk-parallel-item::before {content: \"\";position: absolute;border-left: 1px solid gray;box-sizing: border-box;top: 0;bottom: 0;left: 50%;z-index: -1;}#sk-container-id-1 div.sk-parallel-item {display: flex;flex-direction: column;z-index: 1;position: relative;background-color: white;}#sk-container-id-1 div.sk-parallel-item:first-child::after {align-self: flex-end;width: 50%;}#sk-container-id-1 div.sk-parallel-item:last-child::after {align-self: flex-start;width: 50%;}#sk-container-id-1 div.sk-parallel-item:only-child::after {width: 0;}#sk-container-id-1 div.sk-dashed-wrapped {border: 1px dashed gray;margin: 0 0.4em 0.5em 0.4em;box-sizing: border-box;padding-bottom: 0.4em;background-color: white;}#sk-container-id-1 div.sk-label label {font-family: monospace;font-weight: bold;display: inline-block;line-height: 1.2em;}#sk-container-id-1 div.sk-label-container {text-align: center;}#sk-container-id-1 div.sk-container {/* jupyter's `normalize.less` sets `[hidden] { display: none; }` but bootstrap.min.css set `[hidden] { display: none !important; }` so we also need the `!important` here to be able to override the default hidden behavior on the sphinx rendered scikit-learn.org. See: https://github.com/scikit-learn/scikit-learn/issues/21755 */display: inline-block !important;position: relative;}#sk-container-id-1 div.sk-text-repr-fallback {display: none;}</style><div id=\"sk-container-id-1\" class=\"sk-top-container\"><div class=\"sk-text-repr-fallback\"><pre>ARDRegression()</pre><b>In a Jupyter environment, please rerun this cell to show the HTML representation or trust the notebook. <br />On GitHub, the HTML representation is unable to render, please try loading this page with nbviewer.org.</b></div><div class=\"sk-container\" hidden><div class=\"sk-item\"><div class=\"sk-estimator sk-toggleable\"><input class=\"sk-toggleable__control sk-hidden--visually\" id=\"sk-estimator-id-1\" type=\"checkbox\" checked><label for=\"sk-estimator-id-1\" class=\"sk-toggleable__label sk-toggleable__label-arrow\">ARDRegression</label><div class=\"sk-toggleable__content\"><pre>ARDRegression()</pre></div></div></div></div></div>"
      ],
      "text/plain": [
       "ARDRegression()"
      ]
     },
     "execution_count": 57,
     "metadata": {},
     "output_type": "execute_result"
    }
   ],
   "source": [
    "ARD_Model.fit(X_train,y_train)"
   ]
  },
  {
   "cell_type": "code",
   "execution_count": 58,
   "metadata": {
    "executionInfo": {
     "elapsed": 14,
     "status": "ok",
     "timestamp": 1702215739372,
     "user": {
      "displayName": "Bouras",
      "userId": "12044258327519011260"
     },
     "user_tz": -120
    },
    "id": "ljshHBOmlpb2"
   },
   "outputs": [],
   "source": [
    "y_pred_test=ARD_Model.predict(X_test)"
   ]
  },
  {
   "cell_type": "code",
   "execution_count": 59,
   "metadata": {
    "colab": {
     "base_uri": "https://localhost:8080/"
    },
    "executionInfo": {
     "elapsed": 13,
     "status": "ok",
     "timestamp": 1702215739372,
     "user": {
      "displayName": "Bouras",
      "userId": "12044258327519011260"
     },
     "user_tz": -120
    },
    "id": "l-DUzypQlz9O",
    "outputId": "5a8fe4c3-db0b-44e5-b13a-acf92d5dfe92"
   },
   "outputs": [
    {
     "data": {
      "text/plain": [
       "0.8801032133177155"
      ]
     },
     "execution_count": 59,
     "metadata": {},
     "output_type": "execute_result"
    }
   ],
   "source": [
    "r2_score(y_test,y_pred_test)"
   ]
  },
  {
   "cell_type": "code",
   "execution_count": 60,
   "metadata": {
    "executionInfo": {
     "elapsed": 13,
     "status": "ok",
     "timestamp": 1702215739372,
     "user": {
      "displayName": "Bouras",
      "userId": "12044258327519011260"
     },
     "user_tz": -120
    },
    "id": "o4o5uEddl5n9"
   },
   "outputs": [],
   "source": [
    "import numpy as np\n",
    "import pandas as pd\n",
    "from sklearn.model_selection import train_test_split, GridSearchCV\n",
    "from sklearn.linear_model import ARDRegression\n",
    "from sklearn.metrics import mean_squared_error\n"
   ]
  },
  {
   "cell_type": "code",
   "execution_count": 61,
   "metadata": {
    "colab": {
     "base_uri": "https://localhost:8080/"
    },
    "executionInfo": {
     "elapsed": 433,
     "status": "ok",
     "timestamp": 1702215739792,
     "user": {
      "displayName": "Bouras",
      "userId": "12044258327519011260"
     },
     "user_tz": -120
    },
    "id": "f_zNGvTEnzgw",
    "outputId": "b9a574ad-b79c-433d-a1e8-7cbfd0f569ff"
   },
   "outputs": [
    {
     "name": "stdout",
     "output_type": "stream",
     "text": [
      "Mean Squared Error on Test Set: 0.13094916998976808\n",
      "R^2 on Test Set: 0.8801032140686996\n",
      "Best Hyperparameters: {'alpha_1': 0.0001, 'alpha_2': 1e-06}\n",
      "GridSearchCV Results: {'mean_fit_time': array([0.00600138, 0.00663657, 0.0046999 , 0.00441079, 0.0043057 ,\n",
      "       0.00562248, 0.00426359, 0.004884  , 0.00439215]), 'std_fit_time': array([0.00236743, 0.00401686, 0.00092195, 0.00076482, 0.00084401,\n",
      "       0.00185183, 0.00079553, 0.00085833, 0.0009603 ]), 'mean_score_time': array([0.00067687, 0.00064921, 0.00062265, 0.0006084 , 0.00061164,\n",
      "       0.00085688, 0.00059004, 0.00065174, 0.00060816]), 'std_score_time': array([3.43511450e-05, 4.70580539e-05, 1.47801060e-05, 4.56209824e-05,\n",
      "       3.72136501e-05, 4.76827812e-04, 1.97426708e-05, 4.21526745e-05,\n",
      "       1.96774929e-05]), 'param_alpha_1': masked_array(data=[1e-06, 1e-06, 1e-06, 1e-05, 1e-05, 1e-05, 0.0001,\n",
      "                   0.0001, 0.0001],\n",
      "             mask=[False, False, False, False, False, False, False, False,\n",
      "                   False],\n",
      "       fill_value='?',\n",
      "            dtype=object), 'param_alpha_2': masked_array(data=[1e-06, 1e-05, 0.0001, 1e-06, 1e-05, 0.0001, 1e-06,\n",
      "                   1e-05, 0.0001],\n",
      "             mask=[False, False, False, False, False, False, False, False,\n",
      "                   False],\n",
      "       fill_value='?',\n",
      "            dtype=object), 'params': [{'alpha_1': 1e-06, 'alpha_2': 1e-06}, {'alpha_1': 1e-06, 'alpha_2': 1e-05}, {'alpha_1': 1e-06, 'alpha_2': 0.0001}, {'alpha_1': 1e-05, 'alpha_2': 1e-06}, {'alpha_1': 1e-05, 'alpha_2': 1e-05}, {'alpha_1': 1e-05, 'alpha_2': 0.0001}, {'alpha_1': 0.0001, 'alpha_2': 1e-06}, {'alpha_1': 0.0001, 'alpha_2': 1e-05}, {'alpha_1': 0.0001, 'alpha_2': 0.0001}], 'split0_test_score': array([-0.53465707, -0.53465708, -0.53465711, -0.53465707, -0.53465708,\n",
      "       -0.53465711, -0.53465707, -0.53465707, -0.53465711]), 'split1_test_score': array([-0.15099731, -0.1509973 , -0.15099727, -0.15099731, -0.1509973 ,\n",
      "       -0.15099727, -0.15099731, -0.15099731, -0.15099727]), 'split2_test_score': array([-0.05767961, -0.05767961, -0.05767963, -0.05767961, -0.05767961,\n",
      "       -0.05767963, -0.05767961, -0.05767961, -0.05767963]), 'split3_test_score': array([-0.21792367, -0.21792367, -0.21792368, -0.21792367, -0.21792367,\n",
      "       -0.21792368, -0.21792367, -0.21792367, -0.21792368]), 'split4_test_score': array([-0.08178135, -0.08178135, -0.08178136, -0.08178135, -0.08178135,\n",
      "       -0.08178136, -0.08178135, -0.08178135, -0.08178136]), 'mean_test_score': array([-0.2086078 , -0.2086078 , -0.20860781, -0.2086078 , -0.2086078 ,\n",
      "       -0.20860781, -0.2086078 , -0.2086078 , -0.20860781]), 'std_test_score': array([0.17238222, 0.17238222, 0.17238223, 0.17238222, 0.17238222,\n",
      "       0.17238223, 0.17238222, 0.17238222, 0.17238223]), 'rank_test_score': array([3, 6, 9, 2, 5, 8, 1, 4, 7], dtype=int32)}\n"
     ]
    }
   ],
   "source": [
    "ard_reg = ARDRegression()\n",
    "\n",
    "# Define a range of alpha_1 and alpha_2 values to tune the model\n",
    "param_grid = {\n",
    "    'alpha_1': [1e-6, 1e-5, 1e-4],\n",
    "    'alpha_2': [1e-6, 1e-5, 1e-4],\n",
    "}\n",
    "\n",
    "# Use GridSearchCV to find the best hyperparameters\n",
    "grid_search = GridSearchCV(ard_reg, param_grid, cv=5, scoring='neg_mean_squared_error')\n",
    "grid_search.fit(X_train, y_train)\n",
    "\n",
    "# Get the best hyperparameters\n",
    "best_alpha_1 = grid_search.best_params_['alpha_1']\n",
    "best_alpha_2 = grid_search.best_params_['alpha_2']\n",
    "\n",
    "# Train the ARD regression model with the best hyperparameters\n",
    "best_ard_reg = ARDRegression(alpha_1=best_alpha_1, alpha_2=best_alpha_2)\n",
    "best_ard_reg.fit(X_train, y_train)\n",
    "\n",
    "# Make predictions on the test set\n",
    "y_pred = best_ard_reg.predict(X_test)\n",
    "\n",
    "# Evaluate the model performance\n",
    "mse = mean_squared_error(y_test, y_pred)\n",
    "r2 = r2_score(y_test, y_pred)\n",
    "\n",
    "print(f'Mean Squared Error on Test Set: {mse}')\n",
    "print(f'R^2 on Test Set: {r2}')\n",
    "\n",
    "print('Best Hyperparameters:', grid_search.best_params_)\n",
    "print('GridSearchCV Results:', grid_search.cv_results_)"
   ]
  },
  {
   "cell_type": "markdown",
   "metadata": {
    "id": "vhbu0B004ZwY"
   },
   "source": []
  },
  {
   "cell_type": "markdown",
   "metadata": {
    "id": "QX-sm7g4Atn7"
   },
   "source": [
    "#Column Tranformation to achieve better results"
   ]
  },
  {
   "cell_type": "code",
   "execution_count": 62,
   "metadata": {
    "executionInfo": {
     "elapsed": 7,
     "status": "ok",
     "timestamp": 1702215739792,
     "user": {
      "displayName": "Bouras",
      "userId": "12044258327519011260"
     },
     "user_tz": -120
    },
    "id": "VUTOrQfkA1Lx"
   },
   "outputs": [],
   "source": [
    "from sklearn.preprocessing import PolynomialFeatures\n",
    "X_poly=X\n"
   ]
  },
  {
   "cell_type": "code",
   "execution_count": 63,
   "metadata": {
    "colab": {
     "base_uri": "https://localhost:8080/"
    },
    "executionInfo": {
     "elapsed": 7,
     "status": "ok",
     "timestamp": 1702215739792,
     "user": {
      "displayName": "Bouras",
      "userId": "12044258327519011260"
     },
     "user_tz": -120
    },
    "id": "cXJ2cgr1MyfT",
    "outputId": "9300f1f2-1556-4d26-ffcf-92a9f55dd527"
   },
   "outputs": [
    {
     "data": {
      "text/plain": [
       "array([1.0, 0.0, 0.0, 1.0, 0.0, 0.0, -0.217513693340034,\n",
       "       0.22150461673268804, 0.1559105027720208], dtype=object)"
      ]
     },
     "execution_count": 63,
     "metadata": {},
     "output_type": "execute_result"
    }
   ],
   "source": [
    "X[1,]"
   ]
  },
  {
   "cell_type": "code",
   "execution_count": 64,
   "metadata": {
    "colab": {
     "base_uri": "https://localhost:8080/"
    },
    "executionInfo": {
     "elapsed": 7,
     "status": "ok",
     "timestamp": 1702215739793,
     "user": {
      "displayName": "Bouras",
      "userId": "12044258327519011260"
     },
     "user_tz": -120
    },
    "id": "Td-FeA7uKvF8",
    "outputId": "f4d34a36-b8a4-44ce-f583-773315da356d"
   },
   "outputs": [
    {
     "data": {
      "text/plain": [
       "(301, 9)"
      ]
     },
     "execution_count": 64,
     "metadata": {},
     "output_type": "execute_result"
    }
   ],
   "source": [
    "X.shape"
   ]
  },
  {
   "cell_type": "code",
   "execution_count": 65,
   "metadata": {
    "executionInfo": {
     "elapsed": 7,
     "status": "ok",
     "timestamp": 1702215739793,
     "user": {
      "displayName": "Bouras",
      "userId": "12044258327519011260"
     },
     "user_tz": -120
    },
    "id": "JPyl_n6ZA4va"
   },
   "outputs": [],
   "source": [
    "poly_reg=PolynomialFeatures(degree=3) #tried with degree=2 and degree=3 and 3 had better results\n",
    "temp_X=X[:,6:]\n",
    "numeric_poly=poly_reg.fit_transform(temp_X) #\n",
    "X_poly=np. concatenate((X[:,:6],numeric_poly),axis=1)"
   ]
  },
  {
   "cell_type": "code",
   "execution_count": 66,
   "metadata": {
    "colab": {
     "base_uri": "https://localhost:8080/"
    },
    "executionInfo": {
     "elapsed": 7,
     "status": "ok",
     "timestamp": 1702215739793,
     "user": {
      "displayName": "Bouras",
      "userId": "12044258327519011260"
     },
     "user_tz": -120
    },
    "id": "Tkwe9-psKj3I",
    "outputId": "f01a51d6-2eff-43a1-d38a-6bde3c19e31b"
   },
   "outputs": [
    {
     "data": {
      "text/plain": [
       "array([[0.0, 1.0, 0.0, ..., -0.014296644418109813, -0.015507719616333683,\n",
       "        -0.016821385540944724],\n",
       "       [1.0, 0.0, 0.0, ..., 0.007649638938071435, 0.005384353023659307,\n",
       "        0.0037898857342276286],\n",
       "       [0.0, 1.0, 0.0, ..., -0.05128984376258219, 0.15420591942595735,\n",
       "        -0.46362912891836167],\n",
       "       ...,\n",
       "       [0.0, 1.0, 0.0, ..., 0.20046331769710693, 0.6738810285735332,\n",
       "        2.2653303651168533],\n",
       "       [1.0, 0.0, 0.0, ..., -0.22939949114244063, 0.2925385029586827,\n",
       "        -0.3730556475392046],\n",
       "       [0.0, 1.0, 0.0, ..., -0.03253322625153267, -0.1317228772843988,\n",
       "        -0.5333291037885728]], dtype=object)"
      ]
     },
     "execution_count": 66,
     "metadata": {},
     "output_type": "execute_result"
    }
   ],
   "source": [
    "X_poly"
   ]
  },
  {
   "cell_type": "code",
   "execution_count": 67,
   "metadata": {
    "colab": {
     "base_uri": "https://localhost:8080/"
    },
    "executionInfo": {
     "elapsed": 6,
     "status": "ok",
     "timestamp": 1702215739793,
     "user": {
      "displayName": "Bouras",
      "userId": "12044258327519011260"
     },
     "user_tz": -120
    },
    "id": "jjEGPTm2A6sN",
    "outputId": "2424141c-860f-43e8-d18b-6072257d6e1d"
   },
   "outputs": [
    {
     "data": {
      "text/plain": [
       "(301, 26)"
      ]
     },
     "execution_count": 67,
     "metadata": {},
     "output_type": "execute_result"
    }
   ],
   "source": [
    "X_poly.shape"
   ]
  },
  {
   "cell_type": "code",
   "execution_count": 68,
   "metadata": {
    "executionInfo": {
     "elapsed": 6,
     "status": "ok",
     "timestamp": 1702215739793,
     "user": {
      "displayName": "Bouras",
      "userId": "12044258327519011260"
     },
     "user_tz": -120
    },
    "id": "XS8x2SrfA9GN"
   },
   "outputs": [],
   "source": [
    "X_train,X_test,y_train,y_test=train_test_split(X_poly,y,test_size=0.25,random_state=42, shuffle=True)"
   ]
  },
  {
   "cell_type": "markdown",
   "metadata": {
    "id": "Vc7KzyMH4e6j"
   },
   "source": [
    "#Polynomial Linear Regression with degree=3"
   ]
  },
  {
   "cell_type": "code",
   "execution_count": 69,
   "metadata": {
    "colab": {
     "base_uri": "https://localhost:8080/",
     "height": 0
    },
    "executionInfo": {
     "elapsed": 6,
     "status": "ok",
     "timestamp": 1702215739793,
     "user": {
      "displayName": "Bouras",
      "userId": "12044258327519011260"
     },
     "user_tz": -120
    },
    "id": "0lrL0YzY5yce",
    "outputId": "658ff68f-d5cb-4453-be58-b0e9a0e78111"
   },
   "outputs": [
    {
     "data": {
      "text/html": [
       "<style>#sk-container-id-2 {color: black;background-color: white;}#sk-container-id-2 pre{padding: 0;}#sk-container-id-2 div.sk-toggleable {background-color: white;}#sk-container-id-2 label.sk-toggleable__label {cursor: pointer;display: block;width: 100%;margin-bottom: 0;padding: 0.3em;box-sizing: border-box;text-align: center;}#sk-container-id-2 label.sk-toggleable__label-arrow:before {content: \"▸\";float: left;margin-right: 0.25em;color: #696969;}#sk-container-id-2 label.sk-toggleable__label-arrow:hover:before {color: black;}#sk-container-id-2 div.sk-estimator:hover label.sk-toggleable__label-arrow:before {color: black;}#sk-container-id-2 div.sk-toggleable__content {max-height: 0;max-width: 0;overflow: hidden;text-align: left;background-color: #f0f8ff;}#sk-container-id-2 div.sk-toggleable__content pre {margin: 0.2em;color: black;border-radius: 0.25em;background-color: #f0f8ff;}#sk-container-id-2 input.sk-toggleable__control:checked~div.sk-toggleable__content {max-height: 200px;max-width: 100%;overflow: auto;}#sk-container-id-2 input.sk-toggleable__control:checked~label.sk-toggleable__label-arrow:before {content: \"▾\";}#sk-container-id-2 div.sk-estimator input.sk-toggleable__control:checked~label.sk-toggleable__label {background-color: #d4ebff;}#sk-container-id-2 div.sk-label input.sk-toggleable__control:checked~label.sk-toggleable__label {background-color: #d4ebff;}#sk-container-id-2 input.sk-hidden--visually {border: 0;clip: rect(1px 1px 1px 1px);clip: rect(1px, 1px, 1px, 1px);height: 1px;margin: -1px;overflow: hidden;padding: 0;position: absolute;width: 1px;}#sk-container-id-2 div.sk-estimator {font-family: monospace;background-color: #f0f8ff;border: 1px dotted black;border-radius: 0.25em;box-sizing: border-box;margin-bottom: 0.5em;}#sk-container-id-2 div.sk-estimator:hover {background-color: #d4ebff;}#sk-container-id-2 div.sk-parallel-item::after {content: \"\";width: 100%;border-bottom: 1px solid gray;flex-grow: 1;}#sk-container-id-2 div.sk-label:hover label.sk-toggleable__label {background-color: #d4ebff;}#sk-container-id-2 div.sk-serial::before {content: \"\";position: absolute;border-left: 1px solid gray;box-sizing: border-box;top: 0;bottom: 0;left: 50%;z-index: 0;}#sk-container-id-2 div.sk-serial {display: flex;flex-direction: column;align-items: center;background-color: white;padding-right: 0.2em;padding-left: 0.2em;position: relative;}#sk-container-id-2 div.sk-item {position: relative;z-index: 1;}#sk-container-id-2 div.sk-parallel {display: flex;align-items: stretch;justify-content: center;background-color: white;position: relative;}#sk-container-id-2 div.sk-item::before, #sk-container-id-2 div.sk-parallel-item::before {content: \"\";position: absolute;border-left: 1px solid gray;box-sizing: border-box;top: 0;bottom: 0;left: 50%;z-index: -1;}#sk-container-id-2 div.sk-parallel-item {display: flex;flex-direction: column;z-index: 1;position: relative;background-color: white;}#sk-container-id-2 div.sk-parallel-item:first-child::after {align-self: flex-end;width: 50%;}#sk-container-id-2 div.sk-parallel-item:last-child::after {align-self: flex-start;width: 50%;}#sk-container-id-2 div.sk-parallel-item:only-child::after {width: 0;}#sk-container-id-2 div.sk-dashed-wrapped {border: 1px dashed gray;margin: 0 0.4em 0.5em 0.4em;box-sizing: border-box;padding-bottom: 0.4em;background-color: white;}#sk-container-id-2 div.sk-label label {font-family: monospace;font-weight: bold;display: inline-block;line-height: 1.2em;}#sk-container-id-2 div.sk-label-container {text-align: center;}#sk-container-id-2 div.sk-container {/* jupyter's `normalize.less` sets `[hidden] { display: none; }` but bootstrap.min.css set `[hidden] { display: none !important; }` so we also need the `!important` here to be able to override the default hidden behavior on the sphinx rendered scikit-learn.org. See: https://github.com/scikit-learn/scikit-learn/issues/21755 */display: inline-block !important;position: relative;}#sk-container-id-2 div.sk-text-repr-fallback {display: none;}</style><div id=\"sk-container-id-2\" class=\"sk-top-container\"><div class=\"sk-text-repr-fallback\"><pre>LinearRegression()</pre><b>In a Jupyter environment, please rerun this cell to show the HTML representation or trust the notebook. <br />On GitHub, the HTML representation is unable to render, please try loading this page with nbviewer.org.</b></div><div class=\"sk-container\" hidden><div class=\"sk-item\"><div class=\"sk-estimator sk-toggleable\"><input class=\"sk-toggleable__control sk-hidden--visually\" id=\"sk-estimator-id-2\" type=\"checkbox\" checked><label for=\"sk-estimator-id-2\" class=\"sk-toggleable__label sk-toggleable__label-arrow\">LinearRegression</label><div class=\"sk-toggleable__content\"><pre>LinearRegression()</pre></div></div></div></div></div>"
      ],
      "text/plain": [
       "LinearRegression()"
      ]
     },
     "execution_count": 69,
     "metadata": {},
     "output_type": "execute_result"
    }
   ],
   "source": [
    "lin_reg3=LinearRegression()\n",
    "lin_reg3.fit(X_train,y_train)"
   ]
  },
  {
   "cell_type": "code",
   "execution_count": 70,
   "metadata": {
    "colab": {
     "base_uri": "https://localhost:8080/"
    },
    "executionInfo": {
     "elapsed": 5,
     "status": "ok",
     "timestamp": 1702215739793,
     "user": {
      "displayName": "Bouras",
      "userId": "12044258327519011260"
     },
     "user_tz": -120
    },
    "id": "d870mu8aMzRJ",
    "outputId": "3281df0d-ec5c-43f5-f71a-d4db393987cf"
   },
   "outputs": [
    {
     "name": "stdout",
     "output_type": "stream",
     "text": [
      "R-squared on Train Set: 0.9819\n",
      "Mean Squared Error on Test Set: 0.0245\n",
      "R-squared on Test Set: 0.9770\n"
     ]
    }
   ],
   "source": [
    "y_pred_train=lin_reg3.predict(X_train)\n",
    "y_pred_test=lin_reg3.predict(X_test)\n",
    "\n",
    "print(f\"R-squared on Train Set: {r2_score(y_train,y_pred_train):.4f}\")\n",
    "print(f\"Mean Squared Error on Test Set: {mean_squared_error(y_test, y_pred_test):.4f}\")\n",
    "print(f\"R-squared on Test Set: {r2_score(y_test,y_pred_test):.4f}\")"
   ]
  },
  {
   "cell_type": "code",
   "execution_count": 70,
   "metadata": {
    "executionInfo": {
     "elapsed": 5,
     "status": "ok",
     "timestamp": 1702215739793,
     "user": {
      "displayName": "Bouras",
      "userId": "12044258327519011260"
     },
     "user_tz": -120
    },
    "id": "0IpSHDCmO4WL"
   },
   "outputs": [],
   "source": []
  },
  {
   "cell_type": "code",
   "execution_count": 71,
   "metadata": {
    "colab": {
     "base_uri": "https://localhost:8080/",
     "height": 0
    },
    "executionInfo": {
     "elapsed": 554,
     "status": "ok",
     "timestamp": 1702215740343,
     "user": {
      "displayName": "Bouras",
      "userId": "12044258327519011260"
     },
     "user_tz": -120
    },
    "id": "GXN2j3Ud8lol",
    "outputId": "59b80380-f957-451e-9192-f842062e8164"
   },
   "outputs": [
    {
     "data": {
      "image/png": "[encoded data removed]",
      "text/plain": [
       "<Figure size 640x480 with 1 Axes>"
      ]
     },
     "metadata": {},
     "output_type": "display_data"
    }
   ],
   "source": [
    "train_predictions=lin_reg3.predict(X_train)\n",
    "test_predictions=lin_reg3.predict(X_test)\n",
    "mse = mean_squared_error(y_test, test_predictions)\n",
    "r2 = r2_score(y_test,test_predictions )\n",
    "textstr = f'MSE: {mse:.4f}\\nR2: {r2:.4f}'\n",
    "props = dict(boxstyle='round', facecolor='wheat', alpha=0.5)\n",
    "\n",
    "plt.scatter(train_predictions, y_train, label=\"Train samples\", c=\"#d95f02\")\n",
    "plt.scatter(test_predictions, y_test, label=\"Test samples\", c=\"#7570b3\")\n",
    "plt.title(\"Polynomial Linear Regression with degree=3\")\n",
    "plt.xlabel(\"Predicted value\")\n",
    "plt.ylabel(\"True value\")\n",
    "plt.legend()\n",
    "plt.plot([min(train_predictions), max(train_predictions)], [min(train_predictions), max(train_predictions)], c=\"k\", zorder=0)\n",
    "plt.xlim([min(train_predictions), max(train_predictions)])\n",
    "plt.ylim([min(train_predictions), max(train_predictions)])\n",
    "plt.tight_layout()\n",
    "plt.legend()\n",
    "\n",
    "plt.text(0.70, 0.95, textstr, transform=plt.gca().transAxes, fontsize=10, verticalalignment='top', bbox=props)\n",
    "plt.show()"
   ]
  },
  {
   "cell_type": "markdown",
   "metadata": {
    "id": "seRmOYddFZSM"
   },
   "source": [
    "#Ridge Polynomial Linear Regression with degree=3"
   ]
  },
  {
   "cell_type": "code",
   "execution_count": 72,
   "metadata": {
    "executionInfo": {
     "elapsed": 4,
     "status": "ok",
     "timestamp": 1702215740343,
     "user": {
      "displayName": "Bouras",
      "userId": "12044258327519011260"
     },
     "user_tz": -120
    },
    "id": "gHoNioKHFjzx"
   },
   "outputs": [],
   "source": [
    "from sklearn.preprocessing import PolynomialFeatures\n",
    "X_poly=X"
   ]
  },
  {
   "cell_type": "code",
   "execution_count": 72,
   "metadata": {
    "executionInfo": {
     "elapsed": 4,
     "status": "ok",
     "timestamp": 1702215740343,
     "user": {
      "displayName": "Bouras",
      "userId": "12044258327519011260"
     },
     "user_tz": -120
    },
    "id": "bqdsQINHFjvF"
   },
   "outputs": [],
   "source": []
  },
  {
   "cell_type": "code",
   "execution_count": 72,
   "metadata": {
    "executionInfo": {
     "elapsed": 3,
     "status": "ok",
     "timestamp": 1702215740343,
     "user": {
      "displayName": "Bouras",
      "userId": "12044258327519011260"
     },
     "user_tz": -120
    },
    "id": "BvK-JigSFjoM"
   },
   "outputs": [],
   "source": []
  },
  {
   "cell_type": "code",
   "execution_count": 73,
   "metadata": {
    "colab": {
     "base_uri": "https://localhost:8080/",
     "height": 0
    },
    "executionInfo": {
     "elapsed": 3330,
     "status": "ok",
     "timestamp": 1702215743670,
     "user": {
      "displayName": "Bouras",
      "userId": "12044258327519011260"
     },
     "user_tz": -120
    },
    "id": "EjYwuG28Frrf",
    "outputId": "c38044d2-cdb9-40b9-ed2d-7515c6356b60"
   },
   "outputs": [
    {
     "data": {
      "text/html": [
       "<style>#sk-container-id-3 {color: black;background-color: white;}#sk-container-id-3 pre{padding: 0;}#sk-container-id-3 div.sk-toggleable {background-color: white;}#sk-container-id-3 label.sk-toggleable__label {cursor: pointer;display: block;width: 100%;margin-bottom: 0;padding: 0.3em;box-sizing: border-box;text-align: center;}#sk-container-id-3 label.sk-toggleable__label-arrow:before {content: \"▸\";float: left;margin-right: 0.25em;color: #696969;}#sk-container-id-3 label.sk-toggleable__label-arrow:hover:before {color: black;}#sk-container-id-3 div.sk-estimator:hover label.sk-toggleable__label-arrow:before {color: black;}#sk-container-id-3 div.sk-toggleable__content {max-height: 0;max-width: 0;overflow: hidden;text-align: left;background-color: #f0f8ff;}#sk-container-id-3 div.sk-toggleable__content pre {margin: 0.2em;color: black;border-radius: 0.25em;background-color: #f0f8ff;}#sk-container-id-3 input.sk-toggleable__control:checked~div.sk-toggleable__content {max-height: 200px;max-width: 100%;overflow: auto;}#sk-container-id-3 input.sk-toggleable__control:checked~label.sk-toggleable__label-arrow:before {content: \"▾\";}#sk-container-id-3 div.sk-estimator input.sk-toggleable__control:checked~label.sk-toggleable__label {background-color: #d4ebff;}#sk-container-id-3 div.sk-label input.sk-toggleable__control:checked~label.sk-toggleable__label {background-color: #d4ebff;}#sk-container-id-3 input.sk-hidden--visually {border: 0;clip: rect(1px 1px 1px 1px);clip: rect(1px, 1px, 1px, 1px);height: 1px;margin: -1px;overflow: hidden;padding: 0;position: absolute;width: 1px;}#sk-container-id-3 div.sk-estimator {font-family: monospace;background-color: #f0f8ff;border: 1px dotted black;border-radius: 0.25em;box-sizing: border-box;margin-bottom: 0.5em;}#sk-container-id-3 div.sk-estimator:hover {background-color: #d4ebff;}#sk-container-id-3 div.sk-parallel-item::after {content: \"\";width: 100%;border-bottom: 1px solid gray;flex-grow: 1;}#sk-container-id-3 div.sk-label:hover label.sk-toggleable__label {background-color: #d4ebff;}#sk-container-id-3 div.sk-serial::before {content: \"\";position: absolute;border-left: 1px solid gray;box-sizing: border-box;top: 0;bottom: 0;left: 50%;z-index: 0;}#sk-container-id-3 div.sk-serial {display: flex;flex-direction: column;align-items: center;background-color: white;padding-right: 0.2em;padding-left: 0.2em;position: relative;}#sk-container-id-3 div.sk-item {position: relative;z-index: 1;}#sk-container-id-3 div.sk-parallel {display: flex;align-items: stretch;justify-content: center;background-color: white;position: relative;}#sk-container-id-3 div.sk-item::before, #sk-container-id-3 div.sk-parallel-item::before {content: \"\";position: absolute;border-left: 1px solid gray;box-sizing: border-box;top: 0;bottom: 0;left: 50%;z-index: -1;}#sk-container-id-3 div.sk-parallel-item {display: flex;flex-direction: column;z-index: 1;position: relative;background-color: white;}#sk-container-id-3 div.sk-parallel-item:first-child::after {align-self: flex-end;width: 50%;}#sk-container-id-3 div.sk-parallel-item:last-child::after {align-self: flex-start;width: 50%;}#sk-container-id-3 div.sk-parallel-item:only-child::after {width: 0;}#sk-container-id-3 div.sk-dashed-wrapped {border: 1px dashed gray;margin: 0 0.4em 0.5em 0.4em;box-sizing: border-box;padding-bottom: 0.4em;background-color: white;}#sk-container-id-3 div.sk-label label {font-family: monospace;font-weight: bold;display: inline-block;line-height: 1.2em;}#sk-container-id-3 div.sk-label-container {text-align: center;}#sk-container-id-3 div.sk-container {/* jupyter's `normalize.less` sets `[hidden] { display: none; }` but bootstrap.min.css set `[hidden] { display: none !important; }` so we also need the `!important` here to be able to override the default hidden behavior on the sphinx rendered scikit-learn.org. See: https://github.com/scikit-learn/scikit-learn/issues/21755 */display: inline-block !important;position: relative;}#sk-container-id-3 div.sk-text-repr-fallback {display: none;}</style><div id=\"sk-container-id-3\" class=\"sk-top-container\"><div class=\"sk-text-repr-fallback\"><pre>RidgeCV(alphas=array([1.0000e-02, 5.0100e+00, 1.0010e+01, 1.5010e+01, 2.0010e+01,\n",
       "       2.5010e+01, 3.0010e+01, 3.5010e+01, 4.0010e+01, 4.5010e+01,\n",
       "       5.0010e+01, 5.5010e+01, 6.0010e+01, 6.5010e+01, 7.0010e+01,\n",
       "       7.5010e+01, 8.0010e+01, 8.5010e+01, 9.0010e+01, 9.5010e+01,\n",
       "       1.0001e+02, 1.0501e+02, 1.1001e+02, 1.1501e+02, 1.2001e+02,\n",
       "       1.2501e+02, 1.3001e+02, 1.3501e+02, 1.4001e+02, 1.4501e+0...\n",
       "       8.5001e+02, 8.5501e+02, 8.6001e+02, 8.6501e+02, 8.7001e+02,\n",
       "       8.7501e+02, 8.8001e+02, 8.8501e+02, 8.9001e+02, 8.9501e+02,\n",
       "       9.0001e+02, 9.0501e+02, 9.1001e+02, 9.1501e+02, 9.2001e+02,\n",
       "       9.2501e+02, 9.3001e+02, 9.3501e+02, 9.4001e+02, 9.4501e+02,\n",
       "       9.5001e+02, 9.5501e+02, 9.6001e+02, 9.6501e+02, 9.7001e+02,\n",
       "       9.7501e+02, 9.8001e+02, 9.8501e+02, 9.9001e+02, 9.9501e+02]),\n",
       "        cv=RepeatedKFold(n_repeats=1, n_splits=10, random_state=42))</pre><b>In a Jupyter environment, please rerun this cell to show the HTML representation or trust the notebook. <br />On GitHub, the HTML representation is unable to render, please try loading this page with nbviewer.org.</b></div><div class=\"sk-container\" hidden><div class=\"sk-item\"><div class=\"sk-estimator sk-toggleable\"><input class=\"sk-toggleable__control sk-hidden--visually\" id=\"sk-estimator-id-3\" type=\"checkbox\" checked><label for=\"sk-estimator-id-3\" class=\"sk-toggleable__label sk-toggleable__label-arrow\">RidgeCV</label><div class=\"sk-toggleable__content\"><pre>RidgeCV(alphas=array([1.0000e-02, 5.0100e+00, 1.0010e+01, 1.5010e+01, 2.0010e+01,\n",
       "       2.5010e+01, 3.0010e+01, 3.5010e+01, 4.0010e+01, 4.5010e+01,\n",
       "       5.0010e+01, 5.5010e+01, 6.0010e+01, 6.5010e+01, 7.0010e+01,\n",
       "       7.5010e+01, 8.0010e+01, 8.5010e+01, 9.0010e+01, 9.5010e+01,\n",
       "       1.0001e+02, 1.0501e+02, 1.1001e+02, 1.1501e+02, 1.2001e+02,\n",
       "       1.2501e+02, 1.3001e+02, 1.3501e+02, 1.4001e+02, 1.4501e+0...\n",
       "       8.5001e+02, 8.5501e+02, 8.6001e+02, 8.6501e+02, 8.7001e+02,\n",
       "       8.7501e+02, 8.8001e+02, 8.8501e+02, 8.9001e+02, 8.9501e+02,\n",
       "       9.0001e+02, 9.0501e+02, 9.1001e+02, 9.1501e+02, 9.2001e+02,\n",
       "       9.2501e+02, 9.3001e+02, 9.3501e+02, 9.4001e+02, 9.4501e+02,\n",
       "       9.5001e+02, 9.5501e+02, 9.6001e+02, 9.6501e+02, 9.7001e+02,\n",
       "       9.7501e+02, 9.8001e+02, 9.8501e+02, 9.9001e+02, 9.9501e+02]),\n",
       "        cv=RepeatedKFold(n_repeats=1, n_splits=10, random_state=42))</pre></div></div></div></div></div>"
      ],
      "text/plain": [
       "RidgeCV(alphas=array([1.0000e-02, 5.0100e+00, 1.0010e+01, 1.5010e+01, 2.0010e+01,\n",
       "       2.5010e+01, 3.0010e+01, 3.5010e+01, 4.0010e+01, 4.5010e+01,\n",
       "       5.0010e+01, 5.5010e+01, 6.0010e+01, 6.5010e+01, 7.0010e+01,\n",
       "       7.5010e+01, 8.0010e+01, 8.5010e+01, 9.0010e+01, 9.5010e+01,\n",
       "       1.0001e+02, 1.0501e+02, 1.1001e+02, 1.1501e+02, 1.2001e+02,\n",
       "       1.2501e+02, 1.3001e+02, 1.3501e+02, 1.4001e+02, 1.4501e+0...\n",
       "       8.5001e+02, 8.5501e+02, 8.6001e+02, 8.6501e+02, 8.7001e+02,\n",
       "       8.7501e+02, 8.8001e+02, 8.8501e+02, 8.9001e+02, 8.9501e+02,\n",
       "       9.0001e+02, 9.0501e+02, 9.1001e+02, 9.1501e+02, 9.2001e+02,\n",
       "       9.2501e+02, 9.3001e+02, 9.3501e+02, 9.4001e+02, 9.4501e+02,\n",
       "       9.5001e+02, 9.5501e+02, 9.6001e+02, 9.6501e+02, 9.7001e+02,\n",
       "       9.7501e+02, 9.8001e+02, 9.8501e+02, 9.9001e+02, 9.9501e+02]),\n",
       "        cv=RepeatedKFold(n_repeats=1, n_splits=10, random_state=42))"
      ]
     },
     "execution_count": 73,
     "metadata": {},
     "output_type": "execute_result"
    }
   ],
   "source": [
    "Ridge_poly= RidgeCV(alphas=arange(0.01, 1000, 5), cv=cv)\n",
    "Ridge_poly.fit(X_train,y_train)"
   ]
  },
  {
   "cell_type": "code",
   "execution_count": 74,
   "metadata": {
    "colab": {
     "base_uri": "https://localhost:8080/"
    },
    "executionInfo": {
     "elapsed": 5,
     "status": "ok",
     "timestamp": 1702215743671,
     "user": {
      "displayName": "Bouras",
      "userId": "12044258327519011260"
     },
     "user_tz": -120
    },
    "id": "ytadkhjVOcOR",
    "outputId": "218e4874-e07e-4ab9-8464-9f14d6413b5c"
   },
   "outputs": [
    {
     "name": "stdout",
     "output_type": "stream",
     "text": [
      "R^2 score Train: 0.9795391103758507\n",
      "MSE Train: 0.024512827514432678\n",
      "R^2 score Test: 0.9793056354358383\n",
      "MSE Test: 0.022080861425646126\n"
     ]
    }
   ],
   "source": [
    "y_pred_train=Ridge_poly.predict(X_train)\n",
    "print('R^2 score Train:',  r2_score(y_train,y_pred_train))\n",
    "print('MSE Train:',  mean_squared_error(y_test,y_pred_test))\n",
    "\n",
    "y_pred_test=Ridge_poly.predict(X_test)\n",
    "\n",
    "print('R^2 score Test:',  r2_score(y_test,y_pred_test))\n",
    "print('MSE Test:',  mean_squared_error(y_test,y_pred_test))"
   ]
  },
  {
   "cell_type": "code",
   "execution_count": 74,
   "metadata": {
    "executionInfo": {
     "elapsed": 5,
     "status": "ok",
     "timestamp": 1702215744326,
     "user": {
      "displayName": "Bouras",
      "userId": "12044258327519011260"
     },
     "user_tz": -120
    },
    "id": "NCBcn-QjHNej"
   },
   "outputs": [],
   "source": []
  },
  {
   "cell_type": "code",
   "execution_count": 75,
   "metadata": {
    "colab": {
     "base_uri": "https://localhost:8080/",
     "height": 0
    },
    "executionInfo": {
     "elapsed": 5,
     "status": "ok",
     "timestamp": 1702215744326,
     "user": {
      "displayName": "Bouras",
      "userId": "12044258327519011260"
     },
     "user_tz": -120
    },
    "id": "B0r8yb29OvZx",
    "outputId": "8a136b70-5a8a-4fdc-cf52-6e33e3d66b19"
   },
   "outputs": [
    {
     "data": {
      "image/png": "[encoded data removed]",
      "text/plain": [
       "<Figure size 640x480 with 1 Axes>"
      ]
     },
     "metadata": {},
     "output_type": "display_data"
    }
   ],
   "source": [
    "train_predictions=Ridge_poly.predict(X_train)\n",
    "test_predictions=Ridge_poly.predict(X_test)\n",
    "mse = mean_squared_error(y_test, test_predictions)\n",
    "r2 = r2_score(y_test, test_predictions)\n",
    "textstr = f'MSE: {mse:.4f}\\nR2: {r2:.4f}\\nBest alpha: {Ridge_poly.alpha_:.4f}'\n",
    "props = dict(boxstyle='round', facecolor='wheat', alpha=0.5)\n",
    "\n",
    "plt.scatter(train_predictions, y_train, label=\"Train samples\", c=\"#d95f02\")\n",
    "plt.scatter(test_predictions, y_test, label=\"Test samples\", c=\"#7570b3\")\n",
    "plt.title(\"Ridge Regression Model~X^3\")\n",
    "plt.xlabel(\"Predicted value\")\n",
    "plt.ylabel(\"True value\")\n",
    "plt.legend()\n",
    "plt.plot([min(train_predictions), max(train_predictions)], [min(train_predictions), max(train_predictions)], c=\"k\", zorder=0)\n",
    "plt.xlim([min(train_predictions), max(train_predictions)])\n",
    "plt.ylim([min(train_predictions), max(train_predictions)])\n",
    "plt.tight_layout()\n",
    "plt.legend()\n",
    "\n",
    "plt.text(0.70, 0.95, textstr, transform=plt.gca().transAxes, fontsize=10, verticalalignment='top', bbox=props)\n",
    "plt.show()"
   ]
  },
  {
   "cell_type": "code",
   "execution_count": 75,
   "metadata": {
    "executionInfo": {
     "elapsed": 4,
     "status": "ok",
     "timestamp": 1702215744326,
     "user": {
      "displayName": "Bouras",
      "userId": "12044258327519011260"
     },
     "user_tz": -120
    },
    "id": "zTXM9PSqkzof"
   },
   "outputs": [],
   "source": []
  },
  {
   "cell_type": "markdown",
   "metadata": {
    "id": "hM9Fclt1QXI_"
   },
   "source": [
    "#Lasso Polynomial Linear Regression with degree=3"
   ]
  },
  {
   "cell_type": "code",
   "execution_count": 76,
   "metadata": {
    "colab": {
     "base_uri": "https://localhost:8080/",
     "height": 0
    },
    "executionInfo": {
     "elapsed": 14,
     "status": "ok",
     "timestamp": 1702215744748,
     "user": {
      "displayName": "Bouras",
      "userId": "12044258327519011260"
     },
     "user_tz": -120
    },
    "id": "VUT6pM25QbFe",
    "outputId": "d9d8dc0e-2c1e-4b3d-a788-fd1da2258ab1"
   },
   "outputs": [
    {
     "data": {
      "text/html": [
       "<style>#sk-container-id-4 {color: black;background-color: white;}#sk-container-id-4 pre{padding: 0;}#sk-container-id-4 div.sk-toggleable {background-color: white;}#sk-container-id-4 label.sk-toggleable__label {cursor: pointer;display: block;width: 100%;margin-bottom: 0;padding: 0.3em;box-sizing: border-box;text-align: center;}#sk-container-id-4 label.sk-toggleable__label-arrow:before {content: \"▸\";float: left;margin-right: 0.25em;color: #696969;}#sk-container-id-4 label.sk-toggleable__label-arrow:hover:before {color: black;}#sk-container-id-4 div.sk-estimator:hover label.sk-toggleable__label-arrow:before {color: black;}#sk-container-id-4 div.sk-toggleable__content {max-height: 0;max-width: 0;overflow: hidden;text-align: left;background-color: #f0f8ff;}#sk-container-id-4 div.sk-toggleable__content pre {margin: 0.2em;color: black;border-radius: 0.25em;background-color: #f0f8ff;}#sk-container-id-4 input.sk-toggleable__control:checked~div.sk-toggleable__content {max-height: 200px;max-width: 100%;overflow: auto;}#sk-container-id-4 input.sk-toggleable__control:checked~label.sk-toggleable__label-arrow:before {content: \"▾\";}#sk-container-id-4 div.sk-estimator input.sk-toggleable__control:checked~label.sk-toggleable__label {background-color: #d4ebff;}#sk-container-id-4 div.sk-label input.sk-toggleable__control:checked~label.sk-toggleable__label {background-color: #d4ebff;}#sk-container-id-4 input.sk-hidden--visually {border: 0;clip: rect(1px 1px 1px 1px);clip: rect(1px, 1px, 1px, 1px);height: 1px;margin: -1px;overflow: hidden;padding: 0;position: absolute;width: 1px;}#sk-container-id-4 div.sk-estimator {font-family: monospace;background-color: #f0f8ff;border: 1px dotted black;border-radius: 0.25em;box-sizing: border-box;margin-bottom: 0.5em;}#sk-container-id-4 div.sk-estimator:hover {background-color: #d4ebff;}#sk-container-id-4 div.sk-parallel-item::after {content: \"\";width: 100%;border-bottom: 1px solid gray;flex-grow: 1;}#sk-container-id-4 div.sk-label:hover label.sk-toggleable__label {background-color: #d4ebff;}#sk-container-id-4 div.sk-serial::before {content: \"\";position: absolute;border-left: 1px solid gray;box-sizing: border-box;top: 0;bottom: 0;left: 50%;z-index: 0;}#sk-container-id-4 div.sk-serial {display: flex;flex-direction: column;align-items: center;background-color: white;padding-right: 0.2em;padding-left: 0.2em;position: relative;}#sk-container-id-4 div.sk-item {position: relative;z-index: 1;}#sk-container-id-4 div.sk-parallel {display: flex;align-items: stretch;justify-content: center;background-color: white;position: relative;}#sk-container-id-4 div.sk-item::before, #sk-container-id-4 div.sk-parallel-item::before {content: \"\";position: absolute;border-left: 1px solid gray;box-sizing: border-box;top: 0;bottom: 0;left: 50%;z-index: -1;}#sk-container-id-4 div.sk-parallel-item {display: flex;flex-direction: column;z-index: 1;position: relative;background-color: white;}#sk-container-id-4 div.sk-parallel-item:first-child::after {align-self: flex-end;width: 50%;}#sk-container-id-4 div.sk-parallel-item:last-child::after {align-self: flex-start;width: 50%;}#sk-container-id-4 div.sk-parallel-item:only-child::after {width: 0;}#sk-container-id-4 div.sk-dashed-wrapped {border: 1px dashed gray;margin: 0 0.4em 0.5em 0.4em;box-sizing: border-box;padding-bottom: 0.4em;background-color: white;}#sk-container-id-4 div.sk-label label {font-family: monospace;font-weight: bold;display: inline-block;line-height: 1.2em;}#sk-container-id-4 div.sk-label-container {text-align: center;}#sk-container-id-4 div.sk-container {/* jupyter's `normalize.less` sets `[hidden] { display: none; }` but bootstrap.min.css set `[hidden] { display: none !important; }` so we also need the `!important` here to be able to override the default hidden behavior on the sphinx rendered scikit-learn.org. See: https://github.com/scikit-learn/scikit-learn/issues/21755 */display: inline-block !important;position: relative;}#sk-container-id-4 div.sk-text-repr-fallback {display: none;}</style><div id=\"sk-container-id-4\" class=\"sk-top-container\"><div class=\"sk-text-repr-fallback\"><pre>LassoCV(alphas=array([0.1, 0.2, 0.3, 0.4, 0.5, 0.6, 0.7, 0.8, 0.9]),\n",
       "        cv=RepeatedKFold(n_repeats=1, n_splits=10, random_state=42),\n",
       "        max_iter=10000, n_jobs=-1)</pre><b>In a Jupyter environment, please rerun this cell to show the HTML representation or trust the notebook. <br />On GitHub, the HTML representation is unable to render, please try loading this page with nbviewer.org.</b></div><div class=\"sk-container\" hidden><div class=\"sk-item\"><div class=\"sk-estimator sk-toggleable\"><input class=\"sk-toggleable__control sk-hidden--visually\" id=\"sk-estimator-id-4\" type=\"checkbox\" checked><label for=\"sk-estimator-id-4\" class=\"sk-toggleable__label sk-toggleable__label-arrow\">LassoCV</label><div class=\"sk-toggleable__content\"><pre>LassoCV(alphas=array([0.1, 0.2, 0.3, 0.4, 0.5, 0.6, 0.7, 0.8, 0.9]),\n",
       "        cv=RepeatedKFold(n_repeats=1, n_splits=10, random_state=42),\n",
       "        max_iter=10000, n_jobs=-1)</pre></div></div></div></div></div>"
      ],
      "text/plain": [
       "LassoCV(alphas=array([0.1, 0.2, 0.3, 0.4, 0.5, 0.6, 0.7, 0.8, 0.9]),\n",
       "        cv=RepeatedKFold(n_repeats=1, n_splits=10, random_state=42),\n",
       "        max_iter=10000, n_jobs=-1)"
      ]
     },
     "execution_count": 76,
     "metadata": {},
     "output_type": "execute_result"
    }
   ],
   "source": [
    "Lasso_poly=LassoCV( alphas=arange(0.1, 1, 0.1), cv=cv, n_jobs=-1,max_iter =10000  )\n",
    "Lasso_poly.fit(X_train,y_train)"
   ]
  },
  {
   "cell_type": "code",
   "execution_count": 77,
   "metadata": {
    "colab": {
     "base_uri": "https://localhost:8080/"
    },
    "executionInfo": {
     "elapsed": 13,
     "status": "ok",
     "timestamp": 1702215744748,
     "user": {
      "displayName": "Bouras",
      "userId": "12044258327519011260"
     },
     "user_tz": -120
    },
    "id": "n9sGw2hIQxEW",
    "outputId": "31a35b53-dc32-4d23-f9b8-c54bf891ebe6"
   },
   "outputs": [
    {
     "name": "stdout",
     "output_type": "stream",
     "text": [
      "R^2 score Train: 0.8993942826857707\n",
      "MSE Train: 0.1211895470026462\n",
      "R^2 score Test: 0.8864201618454297\n",
      "MSE Test: 0.1211895470026462\n"
     ]
    }
   ],
   "source": [
    "y_pred_train=Lasso_poly.predict(X_train)\n",
    "y_pred_test=Lasso_poly.predict(X_test)\n",
    "print('R^2 score Train:',  r2_score(y_train,y_pred_train))\n",
    "print('MSE Train:',  mean_squared_error(y_test,y_pred_test))\n",
    "\n",
    "\n",
    "\n",
    "print('R^2 score Test:',  r2_score(y_test,y_pred_test))\n",
    "print('MSE Test:',  mean_squared_error(y_test,y_pred_test))\n"
   ]
  },
  {
   "cell_type": "code",
   "execution_count": 78,
   "metadata": {
    "colab": {
     "base_uri": "https://localhost:8080/",
     "height": 0
    },
    "executionInfo": {
     "elapsed": 315,
     "status": "ok",
     "timestamp": 1702215745050,
     "user": {
      "displayName": "Bouras",
      "userId": "12044258327519011260"
     },
     "user_tz": -120
    },
    "id": "Rvswq7PjlVUb",
    "outputId": "7830f0e1-b2d8-4d45-fd79-5e40cc173db8"
   },
   "outputs": [
    {
     "data": {
      "image/png": "[encoded data removed]",
      "text/plain": [
       "<Figure size 640x480 with 1 Axes>"
      ]
     },
     "metadata": {},
     "output_type": "display_data"
    }
   ],
   "source": [
    "train_predictions=Lasso_poly.predict(X_train)\n",
    "test_predictions=Lasso_poly.predict(X_test)\n",
    "mse = mean_squared_error(y_test, test_predictions)\n",
    "r2 = r2_score(y_test, test_predictions)\n",
    "textstr = f'MSE: {mse:.4f}\\nR2: {r2:.4f}\\nBest alpha: {Lasso_poly.alpha_:.4f}'\n",
    "props = dict(boxstyle='round', facecolor='wheat', alpha=0.5)\n",
    "\n",
    "plt.scatter(train_predictions, y_train, label=\"Train samples\", c=\"#d95f02\")\n",
    "plt.scatter(test_predictions, y_test, label=\"Test samples\", c=\"#7570b3\")\n",
    "plt.title(\"Polynomial Lasso Linear Regression Model\")\n",
    "plt.xlabel(\"Predicted value\")\n",
    "plt.ylabel(\"True value\")\n",
    "plt.legend()\n",
    "plt.plot([min(train_predictions), max(train_predictions)], [min(train_predictions), max(train_predictions)], c=\"k\", zorder=0)\n",
    "plt.xlim([min(train_predictions), max(train_predictions)])\n",
    "plt.ylim([min(train_predictions), max(train_predictions)])\n",
    "plt.tight_layout()\n",
    "plt.legend()\n",
    "\n",
    "plt.text(0.70, 0.95, textstr, transform=plt.gca().transAxes, fontsize=10, verticalalignment='top', bbox=props)\n",
    "plt.show()"
   ]
  },
  {
   "cell_type": "code",
   "execution_count": 78,
   "metadata": {
    "executionInfo": {
     "elapsed": 2,
     "status": "ok",
     "timestamp": 1702215745050,
     "user": {
      "displayName": "Bouras",
      "userId": "12044258327519011260"
     },
     "user_tz": -120
    },
    "id": "LzzxmsI-SQCi"
   },
   "outputs": [],
   "source": []
  },
  {
   "cell_type": "markdown",
   "metadata": {
    "id": "awK0oytHS2oV"
   },
   "source": [
    "#Elastic Net Polynomial Linear Regression with degree=3"
   ]
  },
  {
   "cell_type": "code",
   "execution_count": 79,
   "metadata": {
    "colab": {
     "base_uri": "https://localhost:8080/"
    },
    "executionInfo": {
     "elapsed": 1045,
     "status": "ok",
     "timestamp": 1702215746093,
     "user": {
      "displayName": "Bouras",
      "userId": "12044258327519011260"
     },
     "user_tz": -120
    },
    "id": "8bFbF7IYS65R",
    "outputId": "d0626f9c-4fb9-46da-e4d8-767d9574b7ef"
   },
   "outputs": [
    {
     "name": "stdout",
     "output_type": "stream",
     "text": [
      "ElasticNet best alpha (lambda): 0.010000\n",
      "ElasticNet best l1_ratio (alpha): 0.000000\n"
     ]
    }
   ],
   "source": [
    "from sklearn.linear_model import ElasticNetCV\n",
    "# Define Elastic net model\n",
    "ratios = arange(0, 1, 0.1)    # only a few values tp valuate for alpha to reduce calculation time\n",
    "alphas = [1e-5, 1e-4, 1e-3, 1e-2, 1e-1, 0.0, 1.0, 10.0, 100.0, 1000.0]\n",
    "ElasticNet_poly = ElasticNetCV(l1_ratio=ratios, alphas=alphas, cv=cv, n_jobs=-1)\n",
    "# fit model\n",
    "ElasticNet_poly.fit(X_train, y_train)\n",
    "# summarize chosen configuration\n",
    "print('ElasticNet best alpha (lambda): %f' % ElasticNet_poly.alpha_)\n",
    "print('ElasticNet best l1_ratio (alpha): %f' % ElasticNet_poly.l1_ratio_)"
   ]
  },
  {
   "cell_type": "code",
   "execution_count": 80,
   "metadata": {
    "colab": {
     "base_uri": "https://localhost:8080/"
    },
    "executionInfo": {
     "elapsed": 3,
     "status": "ok",
     "timestamp": 1702215746094,
     "user": {
      "displayName": "Bouras",
      "userId": "12044258327519011260"
     },
     "user_tz": -120
    },
    "id": "ncpc9eLpTLLN",
    "outputId": "563db7fd-e604-4877-9f8e-81dff6c4905a"
   },
   "outputs": [
    {
     "name": "stdout",
     "output_type": "stream",
     "text": [
      "R^2 score Train: 0.981097993215059\n",
      "MSE Train: 0.022305099131515106\n",
      "R^2 score Test: 0.9790954780173919\n",
      "MSE Test: 0.022305099131515106\n"
     ]
    }
   ],
   "source": [
    "y_pred_train=ElasticNet_poly.predict(X_train)\n",
    "y_pred_test=ElasticNet_poly.predict(X_test)\n",
    "\n",
    "print('R^2 score Train:',  r2_score(y_train,y_pred_train))\n",
    "print('MSE Train:',  mean_squared_error(y_test,y_pred_test))\n",
    "print('R^2 score Test:',  r2_score(y_test,y_pred_test))\n",
    "print('MSE Test:',  mean_squared_error(y_test,y_pred_test))"
   ]
  },
  {
   "cell_type": "code",
   "execution_count": 81,
   "metadata": {
    "colab": {
     "base_uri": "https://localhost:8080/",
     "height": 0
    },
    "executionInfo": {
     "elapsed": 642,
     "status": "ok",
     "timestamp": 1702215746734,
     "user": {
      "displayName": "Bouras",
      "userId": "12044258327519011260"
     },
     "user_tz": -120
    },
    "id": "4yYDmhyoTLFD",
    "outputId": "e503d8de-45f4-408d-a904-1709e4f8f367"
   },
   "outputs": [
    {
     "data": {
      "image/png": "[encoded data removed]",
      "text/plain": [
       "<Figure size 640x480 with 1 Axes>"
      ]
     },
     "metadata": {},
     "output_type": "display_data"
    }
   ],
   "source": [
    "train_predictions=ElasticNet_poly.predict(X_train)\n",
    "test_predictions=ElasticNet_poly.predict(X_test)\n",
    "mse = mean_squared_error(y_test, test_predictions)\n",
    "r2 = r2_score(y_test, test_predictions)\n",
    "textstr = f'MSE: {mse:.4f}\\nR2: {r2:.4f}\\nBest alpha(lambda): {ElasticNet_poly.alpha_:.4f} \\nBest l1_ratio(alpha): {ElasticNet_poly.l1_ratio_:.4f}'\n",
    "props = dict(boxstyle='round', facecolor='wheat', alpha=0.5)\n",
    "\n",
    "plt.scatter(train_predictions, y_train, label=\"Train samples\", c=\"#d95f02\")\n",
    "plt.scatter(test_predictions, y_test, label=\"Test samples\", c=\"#7570b3\")\n",
    "plt.title(\"Polynomial Elastic Net Linear Regression Model\")\n",
    "plt.xlabel(\"Predicted value\")\n",
    "plt.ylabel(\"True value\")\n",
    "plt.legend()\n",
    "plt.plot([min(train_predictions), max(train_predictions)], [min(train_predictions), max(train_predictions)], c=\"k\", zorder=0)\n",
    "plt.xlim([min(train_predictions), max(train_predictions)])\n",
    "plt.ylim([min(train_predictions), max(train_predictions)])\n",
    "plt.tight_layout()\n",
    "plt.legend()\n",
    "\n",
    "plt.text(0.70, 0.95, textstr, transform=plt.gca().transAxes, fontsize=10, verticalalignment='top', bbox=props)\n",
    "plt.show()"
   ]
  },
  {
   "cell_type": "code",
   "execution_count": 82,
   "metadata": {
    "colab": {
     "base_uri": "https://localhost:8080/"
    },
    "executionInfo": {
     "elapsed": 5,
     "status": "ok",
     "timestamp": 1702215746734,
     "user": {
      "displayName": "Bouras",
      "userId": "12044258327519011260"
     },
     "user_tz": -120
    },
    "id": "waaL3YSKTK8j",
    "outputId": "f64aff86-337b-4198-eebb-cac2de770eca"
   },
   "outputs": [
    {
     "data": {
      "text/plain": [
       "(301, 9)"
      ]
     },
     "execution_count": 82,
     "metadata": {},
     "output_type": "execute_result"
    }
   ],
   "source": [
    "X_poly.shape"
   ]
  },
  {
   "cell_type": "code",
   "execution_count": 82,
   "metadata": {
    "executionInfo": {
     "elapsed": 4,
     "status": "ok",
     "timestamp": 1702215746734,
     "user": {
      "displayName": "Bouras",
      "userId": "12044258327519011260"
     },
     "user_tz": -120
    },
    "id": "7BjSyGT1JdNl"
   },
   "outputs": [],
   "source": []
  }
 ],
 "metadata": {
  "colab": {
   "authorship_tag": "ABX9TyMfuB6nZhcokr5rsXnvvz/Y",
   "collapsed_sections": [
    "n5TmBuXEP2YY",
    "tg1Q1n0fAiyD",
    "dTLpdqQuUENk",
    "BZ3_A_hfUK7M",
    "LWIFppRXqtPX",
    "YcBxMh7euhLq",
    "m7jpvBOx23lb",
    "CzwsfmoKrnQP",
    "QX-sm7g4Atn7",
    "Vc7KzyMH4e6j",
    "seRmOYddFZSM",
    "hM9Fclt1QXI_",
    "awK0oytHS2oV"
   ],
   "provenance": []
  },
  "kernelspec": {
   "display_name": "Python 3",
   "name": "python3"
  },
  "language_info": {
   "name": "python"
  }
 },
 "nbformat": 4,
 "nbformat_minor": 0
}
